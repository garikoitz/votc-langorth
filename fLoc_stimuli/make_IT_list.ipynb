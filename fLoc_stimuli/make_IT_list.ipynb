{
 "cells": [
  {
   "cell_type": "code",
   "execution_count": 2,
   "metadata": {},
   "outputs": [],
   "source": [
    "import nltk\n",
    "import pandas as pd"
   ]
  },
  {
   "cell_type": "code",
   "execution_count": 3,
   "metadata": {},
   "outputs": [],
   "source": [
    "IT_lemma_freq=pd.read_csv('/Users/tiger/italian_stim/corpus/lemma-WITHOUTnumberssymbols-frequencies-paisa.txt', sep=\",\", header=1, names=[\"lemma\",\"occurance\"])\n",
    "IT_lemma_freq[\"lemma\"]=IT_lemma_freq.lemma.astype(str)\n",
    "IT_lemma_freq[\"occurance\"]=IT_lemma_freq.occurance.astype(int)"
   ]
  },
  {
   "cell_type": "code",
   "execution_count": 16,
   "metadata": {},
   "outputs": [],
   "source": [
    "total_word_counts=IT_lemma_freq['occurance'].sum()\n",
    "# word length 3,4,5,6,7 \n",
    "word_length=IT_lemma_freq['lemma'].apply(lambda x: (len(x) >= 4) and len(x)<=7)\n",
    "# filter the high and low frequency word from the list\n",
    "# standard high freq occurance> 1000 \n",
    "high_freq=IT_lemma_freq['occurance'].apply(lambda x: 10e6*x/total_word_counts>1000)\n",
    "# standard low freq  occuance> 1  occurance <39\n",
    "low_freq=IT_lemma_freq['occurance'].apply(lambda x: 10e6*x/total_word_counts<39 and 10e6*x/total_word_counts>0.5)\n"
   ]
  },
  {
   "cell_type": "code",
   "execution_count": 25,
   "metadata": {},
   "outputs": [],
   "source": [
    "IT_high_freq=IT_lemma_freq[word_length & high_freq]\n",
    "IT_low_freq=IT_lemma_freq[word_length & low_freq]\n"
   ]
  },
  {
   "cell_type": "code",
   "execution_count": 12,
   "metadata": {},
   "outputs": [
    {
     "name": "stdout",
     "output_type": "stream",
     "text": [
      "The file contains 225292817 words.\n"
     ]
    }
   ],
   "source": [
    "# count how many words are in the corpus\n",
    "# Define a function to count words\n",
    "def count_words_in_file(file_path):\n",
    "    with open(file_path, 'r', encoding='utf-8') as file:\n",
    "        text = file.read()  # Read the content of the file\n",
    "        words = text.split()  # Split the text into words\n",
    "        word_count = len(words)  # Count the number of words\n",
    "    return word_count\n",
    "\n",
    "# Specify the path to your corpus file\n",
    "file_path = '/Users/tiger/italian_stim/corpus/paisa.raw.utf8'\n",
    "\n",
    "# Count words\n",
    "word_count = count_words_in_file(file_path)\n",
    "print(f'The file contains {word_count} words.')\n",
    "\n",
    "## not vary a lot, we will use the occurrence"
   ]
  },
  {
   "cell_type": "code",
   "execution_count": 26,
   "metadata": {},
   "outputs": [],
   "source": [
    "IT_high_freq = IT_high_freq.rename(columns={'occurance': 'freq_per_mil'})\n",
    "IT_high_freq['freq_per_mil']=IT_high_freq['freq_per_mil'].apply(lambda x: round(10e6*x/total_word_counts,2))\n",
    "IT_low_freq = IT_low_freq.rename(columns={'occurance': 'freq_per_mil'})\n",
    "IT_low_freq['freq_per_mil']=IT_low_freq['freq_per_mil'].apply(lambda x: round(10e6*x/total_word_counts,2))\n",
    "\n",
    "\n"
   ]
  },
  {
   "cell_type": "code",
   "execution_count": null,
   "metadata": {},
   "outputs": [],
   "source": []
  }
 ],
 "metadata": {
  "kernelspec": {
   "display_name": "votc_py-langorth",
   "language": "python",
   "name": "python3"
  },
  "language_info": {
   "codemirror_mode": {
    "name": "ipython",
    "version": 3
   },
   "file_extension": ".py",
   "mimetype": "text/x-python",
   "name": "python",
   "nbconvert_exporter": "python",
   "pygments_lexer": "ipython3",
   "version": "3.10.13"
  }
 },
 "nbformat": 4,
 "nbformat_minor": 2
}
