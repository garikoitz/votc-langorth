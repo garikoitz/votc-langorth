{
 "cells": [
  {
   "cell_type": "code",
   "execution_count": 1,
   "metadata": {},
   "outputs": [
    {
     "name": "stdout",
     "output_type": "stream",
     "text": [
      "The language plugin orthographic_english was not found in local storage. Do you allow Wuggy to download this plugin? [y/n]\n",
      "Wuggy is currently downloading the plugin orthographic_english for you from the official repository...\n",
      "https://raw.githubusercontent.com/WuggyCode/wuggy_language_plugin_data/master/orthographic_english/orthographic_english.py\n",
      "Wuggy has finished downloading orthographic_english.\n",
      "cag\n",
      "cas\n",
      "har\n",
      "rar\n",
      "lar\n",
      "sar\n",
      "dar\n",
      "cax\n",
      "cak\n",
      "cal\n",
      "bimygra\n",
      "birygra\n",
      "bilygra\n",
      "bimypla\n",
      "bimycra\n",
      "bimybra\n",
      "bimysta\n",
      "bimytra\n",
      "bilycra\n",
      "bilybra\n"
     ]
    }
   ],
   "source": [
    "from wuggy import WuggyGenerator\n",
    "\n",
    "g = WuggyGenerator()\n",
    "g.load(\"orthographic_english\")\n",
    "for match in g.generate_classic([\"car\", \"bicycle\"]):\n",
    "    print(match[\"pseudoword\"])"
   ]
  },
  {
   "cell_type": "code",
   "execution_count": 3,
   "metadata": {},
   "outputs": [
    {
     "name": "stdout",
     "output_type": "stream",
     "text": [
      "The language plugin orthographic_italian was not found in local storage. Do you allow Wuggy to download this plugin? [y/n]\n",
      "Wuggy is currently downloading the plugin orthographic_italian for you from the official repository...\n",
      "https://raw.githubusercontent.com/WuggyCode/wuggy_language_plugin_data/master/orthographic_italian/orthographic_italian.py\n",
      "Wuggy has finished downloading orthographic_italian.\n",
      "dociti\n",
      "docite\n",
      "dopite\n",
      "dopiti\n",
      "domiti\n",
      "domite\n",
      "doviti\n",
      "dovite\n",
      "dositi\n",
      "dosite\n"
     ]
    }
   ],
   "source": [
    "g = WuggyGenerator()\n",
    "g.load(\"orthographic_italian\")\n",
    "for match in g.generate_classic([\"rogito\"]):\n",
    "    print(match[\"pseudoword\"])"
   ]
  },
  {
   "cell_type": "code",
   "execution_count": 4,
   "metadata": {},
   "outputs": [
    {
     "data": {
      "text/plain": [
       "{'word': 'rogito',\n",
       " 'segments': 'ro-gi-to',\n",
       " 'pseudoword': 'dosite',\n",
       " 'statistics': {'overlap_ratio': Fraction(2, 3),\n",
       "  'plain_length': 4,\n",
       "  'lexicality': 'N',\n",
       "  'ned1': 0,\n",
       "  'old20': 2.0,\n",
       "  'overlap': 6,\n",
       "  'transition_frequencies': {0: 2096,\n",
       "   1: 332,\n",
       "   2: 4135,\n",
       "   3: 1043,\n",
       "   4: 499,\n",
       "   5: 8424,\n",
       "   6: 3976,\n",
       "   7: 2198,\n",
       "   8: 8269,\n",
       "   9: 36222}},\n",
       " 'difference_statistics': {'plain_length': 0,\n",
       "  'ned1': -1,\n",
       "  'old20': 0.1499999999999999,\n",
       "  'transition_frequencies': {0: -501,\n",
       "   1: 14,\n",
       "   2: 0,\n",
       "   3: 49,\n",
       "   4: 71,\n",
       "   5: 0,\n",
       "   6: 0,\n",
       "   7: 11,\n",
       "   8: -506,\n",
       "   9: 0}}}"
      ]
     },
     "execution_count": 4,
     "metadata": {},
     "output_type": "execute_result"
    }
   ],
   "source": [
    "match"
   ]
  },
  {
   "cell_type": "code",
   "execution_count": null,
   "metadata": {},
   "outputs": [],
   "source": []
  }
 ],
 "metadata": {
  "kernelspec": {
   "display_name": "votcloc",
   "language": "python",
   "name": "python3"
  },
  "language_info": {
   "codemirror_mode": {
    "name": "ipython",
    "version": 3
   },
   "file_extension": ".py",
   "mimetype": "text/x-python",
   "name": "python",
   "nbconvert_exporter": "python",
   "pygments_lexer": "ipython3",
   "version": "3.12.3"
  }
 },
 "nbformat": 4,
 "nbformat_minor": 2
}
