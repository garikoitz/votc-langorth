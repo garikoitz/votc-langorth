{
 "cells": [
  {
   "cell_type": "code",
   "execution_count": 3,
   "metadata": {},
   "outputs": [],
   "source": [
    "\n",
    "import pandas as pd\n",
    "import os\n",
    "join=os.path.join\n",
    "import random\n",
    "from wuggy import WuggyGenerator\n",
    "import time   "
   ]
  },
  {
   "cell_type": "code",
   "execution_count": 5,
   "metadata": {},
   "outputs": [],
   "source": [
    "homedir = os.getenv('HOME')\n",
    "word_dir = join(homedir,'toolboxes/votc-langorth/fLoc_stimuli/French/Lexique383')\n",
    "fr_fname=join(word_dir,'Lexique383.tsv')\n",
    "fr_df=pd.read_csv(fr_fname, sep=\"\\t\")"
   ]
  },
  {
   "cell_type": "code",
   "execution_count": 8,
   "metadata": {},
   "outputs": [
    {
     "data": {
      "text/plain": [
       "Index(['ortho', 'phon', 'lemme', 'cgram', 'genre', 'nombre', 'freqlemfilms2',\n",
       "       'freqlemlivres', 'freqfilms2', 'freqlivres', 'infover', 'nbhomogr',\n",
       "       'nbhomoph', 'islem', 'nblettres', 'nbphons', 'cvcv', 'p_cvcv',\n",
       "       'voisorth', 'voisphon', 'puorth', 'puphon', 'syll', 'nbsyll', 'cv-cv',\n",
       "       'orthrenv', 'phonrenv', 'orthosyll', 'cgramortho', 'deflem', 'defobs',\n",
       "       'old20', 'pld20', 'morphoder', 'nbmorph'],\n",
       "      dtype='object')"
      ]
     },
     "execution_count": 8,
     "metadata": {},
     "output_type": "execute_result"
    }
   ],
   "source": [
    "fr_df.columns"
   ]
  },
  {
   "cell_type": "code",
   "execution_count": 10,
   "metadata": {},
   "outputs": [
    {
     "data": {
      "text/plain": [
       "142694"
      ]
     },
     "execution_count": 10,
     "metadata": {},
     "output_type": "execute_result"
    }
   ],
   "source": [
    "total_num=fr_df.shape[0]\n",
    "total_num"
   ]
  },
  {
   "cell_type": "code",
   "execution_count": null,
   "metadata": {},
   "outputs": [],
   "source": [
    "# genre: in french seems we need to balance gender\n",
    "# freqlemlivres: the frequency of the lemma in the books\n",
    "# freqlivres: the frequency of the word in the books\n",
    "# islemm: we choose the line that are 1\n",
    "# nblettres: number of letters\n",
    "\n",
    "# actually I will only get the lemma???"
   ]
  },
  {
   "cell_type": "code",
   "execution_count": null,
   "metadata": {},
   "outputs": [],
   "source": [
    "# we want: \n",
    "# nblettres: 4,5,6\n",
    "# islemm: should be 1\n",
    "# we want to use the freqlemlivres\n",
    "# high frequency >200   \n",
    "# low frequency < 30 https://link.springer.com/article/10.3758/BF03196834"
   ]
  },
  {
   "cell_type": "code",
   "execution_count": null,
   "metadata": {},
   "outputs": [],
   "source": [
    "freq_limitation=fr_df['freqlemlivres']>200 | fr_df['freqlemlivres']<30"
   ]
  }
 ],
 "metadata": {
  "kernelspec": {
   "display_name": "votcloc",
   "language": "python",
   "name": "python3"
  },
  "language_info": {
   "codemirror_mode": {
    "name": "ipython",
    "version": 3
   },
   "file_extension": ".py",
   "mimetype": "text/x-python",
   "name": "python",
   "nbconvert_exporter": "python",
   "pygments_lexer": "ipython3",
   "version": "3.12.3"
  }
 },
 "nbformat": 4,
 "nbformat_minor": 2
}
