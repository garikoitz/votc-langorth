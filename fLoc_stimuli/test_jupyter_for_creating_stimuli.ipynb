{
 "cells": [
  {
   "cell_type": "markdown",
   "source": [
    "1. Test if we can create the CB files\n",
    "2. Requiements: make the CB pictures rectangular, now it is square"
   ],
   "metadata": {
    "collapsed": false
   }
  },
  {
   "cell_type": "code",
   "execution_count": 0,
   "outputs": [],
   "source": [
    "import os\n",
    "import random\n",
    "from PIL import Image, ImageDraw, ImageFont"
   ],
   "metadata": {
    "collapsed": false
   }
  },
  {
   "cell_type": "code",
   "execution_count": 5,
   "outputs": [],
   "source": [
    "\n",
    "join = os.path.join\n",
    "bg_path= '/Users/tiger/Packages/toolbox/fLoc/stimuli/scrambled/scrambled-8.jpg'\n",
    "fonts_directory = \"/System/Library/Fonts/Supplemental/Arial Unicode.ttf\"\n",
    "\n",
    "fnt = ImageFont.truetype(fonts_directory, 150)\n",
    "word='example'"
   ],
   "metadata": {
    "collapsed": false
   }
  },
  {
   "cell_type": "code",
   "execution_count": 31,
   "outputs": [],
   "source": [
    "\n",
    "background = Image.open(bg_path)\n",
    "\n",
    "pic_width, pic_height = background.width, background.height\n",
    "background.show()\n",
    "\n",
    "draw = ImageDraw.Draw(background)\n",
    "\n",
    "# draw text, half opacity, center the image\n",
    "_, _, w, h = draw.textbbox((0, 0), word, font = fnt)\n",
    "\n",
    "draw.text(((pic_width-w)/2, (pic_height-h)/2), word, font=fnt, fill=255,\n",
    "                            stroke_width = 2, stroke_fill = \"white\")\n",
    "draw.textlength(word, font=fnt)\n",
    "\n",
    "# draw text, full opacity\n",
    "\n",
    "background.show()\n",
    "output_path = os.path.join('/Users/tiger/Desktop', f\"{'test'}-{1}.jpeg\")\n",
    "background.save(output_path)"
   ],
   "metadata": {
    "collapsed": false
   }
  },
  {
   "cell_type": "code",
   "execution_count": 36,
   "outputs": [
    {
     "data": {
      "text/plain": "(0, 54, 565, 191)"
     },
     "execution_count": 36,
     "metadata": {},
     "output_type": "execute_result"
    }
   ],
   "source": [
    "draw.textbbox((0, 0), word, font = fnt)"
   ],
   "metadata": {
    "collapsed": false
   }
  },
  {
   "cell_type": "code",
   "execution_count": 45,
   "outputs": [],
   "source": [
    "doCB=True\n",
    "if doCB:\n",
    "    top_image = Image.new('RGB', [500, 190], (255, 255, 255))\n",
    "    draw = ImageDraw.Draw(top_image)"
   ],
   "metadata": {
    "collapsed": false
   }
  },
  {
   "cell_type": "code",
   "execution_count": 46,
   "outputs": [],
   "source": [
    "top_image.show()"
   ],
   "metadata": {
    "collapsed": false
   }
  },
  {
   "cell_type": "code",
   "execution_count": 47,
   "outputs": [
    {
     "ename": "IndexError",
     "evalue": "image index out of range",
     "output_type": "error",
     "traceback": [
      "\u001B[0;31m---------------------------------------------------------------------------\u001B[0m",
      "\u001B[0;31mIndexError\u001B[0m                                Traceback (most recent call last)",
      "Cell \u001B[0;32mIn[47], line 26\u001B[0m\n\u001B[1;32m     24\u001B[0m \u001B[38;5;28;01mfor\u001B[39;00m j \u001B[38;5;129;01min\u001B[39;00m \u001B[38;5;28mrange\u001B[39m(w):\n\u001B[1;32m     25\u001B[0m     \u001B[38;5;28;01mif\u001B[39;00m (j \u001B[38;5;241m%\u001B[39m length_of_two_squares) \u001B[38;5;241m>\u001B[39m\u001B[38;5;241m=\u001B[39m length_of_square:\n\u001B[0;32m---> 26\u001B[0m         \u001B[43mpixels\u001B[49m\u001B[43m[\u001B[49m\u001B[43mi\u001B[49m\u001B[43m,\u001B[49m\u001B[43mj\u001B[49m\u001B[43m]\u001B[49m \u001B[38;5;241m=\u001B[39m color_one\n\u001B[1;32m     27\u001B[0m     \u001B[38;5;28;01melse\u001B[39;00m:\n\u001B[1;32m     28\u001B[0m         pixels[i,j] \u001B[38;5;241m=\u001B[39m color_two\n",
      "\u001B[0;31mIndexError\u001B[0m: image index out of range"
     ]
    }
   ],
   "source": [
    "\n",
    "    # Set the colors\n",
    "    number_of_square_across = 10\n",
    "\n",
    "    # Set the colors\n",
    "    color_one = (0, 0, 0)\n",
    "    color_two = (0, 0, 255)\n",
    "\n",
    "    length_of_square = h/number_of_square_across\n",
    "    length_of_two_squares = h/number_of_square_across*2\n",
    "    pixels = top_image.load()  # create the pixel map\n",
    "\n",
    "    for i in range(h):\n",
    "        # for every 100 pixels out of the total 500\n",
    "        # if its the first 50 pixels\n",
    "        if (i % length_of_two_squares) >= length_of_square:\n",
    "            for j in range(w):\n",
    "                if (j % length_of_two_squares) < length_of_square:\n",
    "                    pixels[i,j] = color_one\n",
    "                else:\n",
    "                    pixels[i,j] = color_two\n",
    "\n",
    "        # else its the second 50 pixels\n",
    "        else:\n",
    "            for j in range(w):\n",
    "                if (j % length_of_two_squares) >= length_of_square:\n",
    "                    pixels[i,j] = color_one\n",
    "                else:\n",
    "                    pixels[i,j] = color_two\n",
    "\n",
    "    top_image.show()\n"
   ],
   "metadata": {
    "collapsed": false
   }
  },
  {
   "cell_type": "code",
   "execution_count": 164,
   "outputs": [
    {
     "name": "stdout",
     "output_type": "stream",
     "text": [
      "417\n",
      "437\n",
      "457\n",
      "477\n",
      "497\n",
      "517\n",
      "537\n",
      "557\n",
      "577\n",
      "597\n"
     ]
    }
   ],
   "source": [
    "from PIL import Image, ImageDraw\n",
    "import random\n",
    "\n",
    "\n",
    "def create_random_shape_checkboard(background_path, output_path, word, fnt=fnt):\n",
    "    # Load the background image\n",
    "    background = Image.open(background_path)\n",
    "\n",
    "    draw = ImageDraw.Draw(background)\n",
    "\n",
    "    # draw text, half opacity, center the image\n",
    "    _, _, w, h = draw.textbbox((0, 0), word, font = fnt)\n",
    "    canvas_width, canvas_height= background.size\n",
    "\n",
    "    # Define the location of the checkerboard (randomly)\n",
    "    cheker_center_x=  canvas_width//2\n",
    "    cheker_center_y=  canvas_height//2\n",
    "\n",
    "\n",
    "    x0,y0=cheker_center_x-w//2, cheker_center_y-h//2\n",
    "    x1,y1=cheker_center_x+w//2, cheker_center_y+h//2\n",
    "\n",
    "    # Draw a random shape (in this case, a rectangle)\n",
    "    draw.rectangle([x0,y0, x1,y1], fill=0)\n",
    "\n",
    "    # Draw the checkerboard pattern inside the shape\n",
    "    square_size = 20\n",
    "    for row in range(y0,y1, square_size):\n",
    "        print(row)\n",
    "        for col in range(x0, x1, square_size):\n",
    "            if (row // square_size + col // square_size) % 2 == 0:\n",
    "                draw.rectangle([col, row, col + square_size, row + square_size], fill=255)\n",
    "            else:\n",
    "                 draw.rectangle([col, row, col + square_size, row + square_size], fill=0)\n",
    "\n",
    "    background.save(output_path)\n",
    "# Example usage:\n",
    "  # Replace with your background image path\n",
    "output_image_path = os.path.join('/Users/tiger/Desktop', f\"{'checkers'}-{2}.png\")# Replace with the desired output image path\n",
    "create_random_shape_checkboard(bg_path, output_image_path, word, fnt)\n"
   ],
   "metadata": {
    "collapsed": false
   }
  },
  {
   "cell_type": "code",
   "execution_count": 125,
   "outputs": [],
   "source": [
    "background = Image.open(bg_path)\n",
    "checker= Image.new('RGB', [w, h], (255, 255, 255))\n",
    "draw = ImageDraw.Draw(checker)\n",
    "canvas_width, canvas_height= background.size\n",
    "# draw text, half opacity, center the image\n",
    "_, _, w, h = draw.textbbox((0, 0), word, font = fnt)\n",
    "\n",
    "# Define the size of the checkerboard (randomly)\n",
    "checker_width = random.randint(w-100, w+100)\n",
    "checker_height = random.randint(h-100, h+100)\n",
    "\n",
    "# Define the location of the checkerboard (randomly)\n",
    "cheker_center_x=  random.randint(canvas_width//2-200,canvas_width//2+200)\n",
    "cheker_center_y=  random.randint(canvas_height//2-200,canvas_height//2+200)"
   ],
   "metadata": {
    "collapsed": false
   }
  },
  {
   "cell_type": "code",
   "execution_count": 126,
   "outputs": [],
   "source": [
    "x0,y0=cheker_center_x-checker_width//2, cheker_center_y-checker_height//2\n",
    "x1,y1=cheker_center_x+checker_width//2, cheker_center_y+checker_height//2"
   ],
   "metadata": {
    "collapsed": false
   }
  },
  {
   "cell_type": "code",
   "execution_count": 127,
   "outputs": [],
   "source": [
    "\n",
    "# Draw a random shape (in this case, a rectangle)\n",
    "draw.rectangle([x0, y0, x1, y1], fill=0)\n",
    "\n",
    "\n"
   ],
   "metadata": {
    "collapsed": false
   }
  },
  {
   "cell_type": "code",
   "execution_count": 161,
   "outputs": [],
   "source": [
    "# Draw the checkerboard pattern inside the shape\n",
    "square_size = 10\n",
    "for row in range(y0, y1, square_size):\n",
    "    for col in range(x0, x1, square_size):\n",
    "        if (row // square_size + col // square_size) % 2 == 0:\n",
    "            draw.rectangle([col, row, col + square_size, row + square_size], fill=255)\n",
    "        else:\n",
    "            draw.rectangle([col, row, col + square_size, row + square_size], fill=0)\n",
    "checker.show()\n",
    "\n"
   ],
   "metadata": {
    "collapsed": false
   }
  },
  {
   "cell_type": "code",
   "execution_count": 136,
   "outputs": [],
   "source": [
    "\n",
    "# Set the colors\n",
    "number_of_square_across = 10\n",
    "\n",
    "# Set the colors\n",
    "color_one = 0\n",
    "color_two = 255\n",
    "\n",
    "length_of_square = (y1-y0)/number_of_square_across\n",
    "length_of_two_squares = (y1-y0)/number_of_square_across*2\n",
    "pixels = checker.load()  # create the pixel map"
   ],
   "metadata": {
    "collapsed": false
   }
  },
  {
   "cell_type": "code",
   "execution_count": 137,
   "outputs": [
    {
     "name": "stdout",
     "output_type": "stream",
     "text": [
      "191\n"
     ]
    },
    {
     "data": {
      "text/plain": "19.2"
     },
     "execution_count": 137,
     "metadata": {},
     "output_type": "execute_result"
    }
   ],
   "source": [
    "print(h)\n",
    "length_of_two_squares"
   ],
   "metadata": {
    "collapsed": false
   }
  },
  {
   "cell_type": "code",
   "execution_count": 138,
   "outputs": [
    {
     "ename": "IndexError",
     "evalue": "image index out of range",
     "output_type": "error",
     "traceback": [
      "\u001B[0;31m---------------------------------------------------------------------------\u001B[0m",
      "\u001B[0;31mIndexError\u001B[0m                                Traceback (most recent call last)",
      "Cell \u001B[0;32mIn[138], line 15\u001B[0m\n\u001B[1;32m     13\u001B[0m \u001B[38;5;28;01mfor\u001B[39;00m j \u001B[38;5;129;01min\u001B[39;00m \u001B[38;5;28mrange\u001B[39m(x1\u001B[38;5;241m-\u001B[39mx0):\n\u001B[1;32m     14\u001B[0m     \u001B[38;5;28;01mif\u001B[39;00m (j \u001B[38;5;241m%\u001B[39m length_of_two_squares) \u001B[38;5;241m>\u001B[39m\u001B[38;5;241m=\u001B[39m length_of_square:\n\u001B[0;32m---> 15\u001B[0m         \u001B[43mpixels\u001B[49m\u001B[43m[\u001B[49m\u001B[43mi\u001B[49m\u001B[43m,\u001B[49m\u001B[43mj\u001B[49m\u001B[43m]\u001B[49m \u001B[38;5;241m=\u001B[39m color_one\n\u001B[1;32m     16\u001B[0m     \u001B[38;5;28;01melse\u001B[39;00m:\n\u001B[1;32m     17\u001B[0m         pixels[i,j] \u001B[38;5;241m=\u001B[39m color_two\n",
      "\u001B[0;31mIndexError\u001B[0m: image index out of range"
     ]
    }
   ],
   "source": [
    "\n",
    "for i in range(y1-y0):\n",
    "    # for every 100 pixels out of the total 500\n",
    "    # if its the first 50 pixels\n",
    "    if (i % length_of_two_squares) >= length_of_square:\n",
    "        for j in range(x1-x0):\n",
    "            if (j % length_of_two_squares) < length_of_square:\n",
    "                pixels[i,j] = color_one\n",
    "            else:\n",
    "                pixels[i,j] = color_two\n",
    "\n",
    "    # else its the second 50 pixels\n",
    "    else:\n",
    "        for j in range(x1-x0):\n",
    "            if (j % length_of_two_squares) >= length_of_square:\n",
    "                pixels[i,j] = color_one\n",
    "            else:\n",
    "                pixels[i,j] = color_two\n",
    "\n",
    "checker.show()"
   ],
   "metadata": {
    "collapsed": false
   }
  },
  {
   "cell_type": "code",
   "execution_count": 140,
   "outputs": [
    {
     "name": "stdout",
     "output_type": "stream",
     "text": [
      "0\n",
      "1\n",
      "2\n",
      "3\n",
      "4\n",
      "5\n",
      "6\n",
      "7\n",
      "8\n",
      "9\n",
      "10\n",
      "11\n",
      "12\n",
      "13\n",
      "14\n",
      "15\n",
      "16\n",
      "17\n",
      "18\n",
      "19\n",
      "20\n",
      "21\n",
      "22\n",
      "23\n",
      "24\n",
      "25\n",
      "26\n",
      "27\n",
      "28\n",
      "29\n",
      "30\n",
      "31\n",
      "32\n",
      "33\n",
      "34\n",
      "35\n",
      "36\n",
      "37\n",
      "38\n",
      "39\n",
      "40\n",
      "41\n",
      "42\n",
      "43\n",
      "44\n",
      "45\n",
      "46\n",
      "47\n",
      "48\n",
      "49\n",
      "50\n",
      "51\n",
      "52\n",
      "53\n",
      "54\n",
      "55\n",
      "56\n",
      "57\n",
      "58\n",
      "59\n",
      "60\n",
      "61\n",
      "62\n",
      "63\n",
      "64\n",
      "65\n",
      "66\n",
      "67\n",
      "68\n",
      "69\n",
      "70\n",
      "71\n",
      "72\n",
      "73\n",
      "74\n",
      "75\n",
      "76\n",
      "77\n",
      "78\n",
      "79\n",
      "80\n",
      "81\n",
      "82\n",
      "83\n",
      "84\n",
      "85\n",
      "86\n",
      "87\n",
      "88\n",
      "89\n",
      "90\n",
      "91\n",
      "92\n",
      "93\n",
      "94\n",
      "95\n"
     ]
    }
   ],
   "source": [
    "for i in range(y1-y0):\n",
    "    print (i)\n"
   ],
   "metadata": {
    "collapsed": false
   }
  },
  {
   "cell_type": "code",
   "execution_count": 134,
   "outputs": [
    {
     "data": {
      "text/plain": "459"
     },
     "execution_count": 134,
     "metadata": {},
     "output_type": "execute_result"
    }
   ],
   "source": [
    "y0"
   ],
   "metadata": {
    "collapsed": false
   }
  },
  {
   "cell_type": "code",
   "execution_count": 135,
   "outputs": [
    {
     "data": {
      "text/plain": "555"
     },
     "execution_count": 135,
     "metadata": {},
     "output_type": "execute_result"
    }
   ],
   "source": [
    "y1"
   ],
   "metadata": {
    "collapsed": false
   }
  },
  {
   "cell_type": "code",
   "execution_count": 146,
   "outputs": [
    {
     "ename": "TypeError",
     "evalue": "unsupported operand type(s) for -: 'tuple' and 'int'",
     "output_type": "error",
     "traceback": [
      "\u001B[0;31m---------------------------------------------------------------------------\u001B[0m",
      "\u001B[0;31mTypeError\u001B[0m                                 Traceback (most recent call last)",
      "Cell \u001B[0;32mIn[146], line 10\u001B[0m\n\u001B[1;32m      6\u001B[0m cheker_center_x\u001B[38;5;241m=\u001B[39m  canvas_width\u001B[38;5;241m/\u001B[39m\u001B[38;5;241m/\u001B[39m\u001B[38;5;241m2\u001B[39m,canvas_width\u001B[38;5;241m/\u001B[39m\u001B[38;5;241m/\u001B[39m\u001B[38;5;241m2\u001B[39m\n\u001B[1;32m      7\u001B[0m cheker_center_y\u001B[38;5;241m=\u001B[39m  canvas_height\u001B[38;5;241m/\u001B[39m\u001B[38;5;241m/\u001B[39m\u001B[38;5;241m2\u001B[39m,canvas_height\u001B[38;5;241m/\u001B[39m\u001B[38;5;241m/\u001B[39m\u001B[38;5;241m2\u001B[39m\n\u001B[0;32m---> 10\u001B[0m x0,y0\u001B[38;5;241m=\u001B[39m\u001B[43mcheker_center_x\u001B[49m\u001B[38;5;241;43m-\u001B[39;49m\u001B[43mchecker_width\u001B[49m\u001B[38;5;241;43m/\u001B[39;49m\u001B[38;5;241;43m/\u001B[39;49m\u001B[38;5;241;43m2\u001B[39;49m, cheker_center_y\u001B[38;5;241m-\u001B[39mchecker_height\u001B[38;5;241m/\u001B[39m\u001B[38;5;241m/\u001B[39m\u001B[38;5;241m2\u001B[39m\n\u001B[1;32m     11\u001B[0m x1,y1\u001B[38;5;241m=\u001B[39mcheker_center_x\u001B[38;5;241m+\u001B[39mchecker_width\u001B[38;5;241m/\u001B[39m\u001B[38;5;241m/\u001B[39m\u001B[38;5;241m2\u001B[39m, cheker_center_y\u001B[38;5;241m+\u001B[39mchecker_height\u001B[38;5;241m/\u001B[39m\u001B[38;5;241m/\u001B[39m\u001B[38;5;241m2\u001B[39m\n",
      "\u001B[0;31mTypeError\u001B[0m: unsupported operand type(s) for -: 'tuple' and 'int'"
     ]
    }
   ],
   "source": [
    "    # draw text, half opacity, center the image\n",
    "    _, _, w, h = draw.textbbox((0, 0), word, font = fnt)\n",
    "    canvas_width, canvas_height= background.size\n",
    "\n",
    "    # Define the location of the checkerboard (randomly)\n",
    "    cheker_center_x=  canvas_width//2,canvas_width//2\n",
    "    cheker_center_y=  canvas_height//2,canvas_height//2\n",
    "\n",
    "\n",
    "    x0,y0=cheker_center_x-checker_width//2, cheker_center_y-checker_height//2\n",
    "    x1,y1=cheker_center_x+checker_width//2, cheker_center_y+checker_height//2\n"
   ],
   "metadata": {
    "collapsed": false
   }
  },
  {
   "cell_type": "code",
   "execution_count": 154,
   "outputs": [],
   "source": [
    "\n",
    "    # draw text, half opacity, center the image\n",
    "    _, _, w, h = draw.textbbox((0, 0), word, font = fnt)\n",
    "    canvas_width, canvas_height= background.size\n",
    "\n",
    "    # Define the location of the checkerboard (randomly)\n",
    "    cheker_center_x=  canvas_width//2\n",
    "    cheker_center_y=  canvas_height//2\n",
    "\n",
    "\n",
    "    x0,y0=cheker_center_x-w//2, cheker_center_y-h//2\n"
   ],
   "metadata": {
    "collapsed": false
   }
  },
  {
   "cell_type": "code",
   "execution_count": 153,
   "outputs": [
    {
     "data": {
      "text/plain": "(512, 512)"
     },
     "execution_count": 153,
     "metadata": {},
     "output_type": "execute_result"
    }
   ],
   "source": [
    "cheker_center_x"
   ],
   "metadata": {
    "collapsed": false
   }
  },
  {
   "cell_type": "code",
   "execution_count": 152,
   "outputs": [
    {
     "data": {
      "text/plain": "191"
     },
     "execution_count": 152,
     "metadata": {},
     "output_type": "execute_result"
    }
   ],
   "source": [
    "h"
   ],
   "metadata": {
    "collapsed": false
   }
  },
  {
   "cell_type": "code",
   "execution_count": 159,
   "outputs": [
    {
     "name": "stdout",
     "output_type": "stream",
     "text": [
      "417\n",
      "437\n",
      "457\n",
      "477\n",
      "497\n",
      "517\n",
      "537\n"
     ]
    }
   ],
   "source": [
    "    square_size = 20\n",
    "    for row in range(y0,y1, square_size):\n",
    "        print(row)\n",
    "        for col in range(x0, x1, square_size):\n",
    "            if (row // square_size + col // square_size) % 2 == 0:\n",
    "                draw.rectangle([col, row, col + square_size, row + square_size], fill=255)\n"
   ],
   "metadata": {
    "collapsed": false
   }
  },
  {
   "cell_type": "code",
   "execution_count": 160,
   "outputs": [
    {
     "data": {
      "text/plain": "555"
     },
     "execution_count": 160,
     "metadata": {},
     "output_type": "execute_result"
    }
   ],
   "source": [
    "y1"
   ],
   "metadata": {
    "collapsed": false
   }
  },
  {
   "cell_type": "code",
   "execution_count": 165,
   "outputs": [
    {
     "ename": "SyntaxError",
     "evalue": "unexpected EOF while parsing (2546509593.py, line 84)",
     "output_type": "error",
     "traceback": [
      "\u001B[0;36m  Cell \u001B[0;32mIn[165], line 84\u001B[0;36m\u001B[0m\n\u001B[0;31m    if doSC:\u001B[0m\n\u001B[0m            ^\u001B[0m\n\u001B[0;31mSyntaxError\u001B[0m\u001B[0;31m:\u001B[0m unexpected EOF while parsing\n"
     ]
    }
   ],
   "source": [
    "def create_word_images(category_of_your_stimuli, word_list,\n",
    "                       backgrounds_directory, output_dir,\n",
    "                       fonts_directory, font_size=150, doSC, doCB):\n",
    "\n",
    "    # Get all image files for backgrounds\n",
    "    background_paths = get_image_files(backgrounds_directory)\n",
    "\n",
    "    # Get all .ttf fonts from the specified directory\n",
    "    fnt = ImageFont.truetype(fonts_directory, font_size)\n",
    "\n",
    "    for idx in range(len(word_list)):\n",
    "        # Select a random background\n",
    "        word = word_list[idx]\n",
    "        bg_path = random.choice(background_paths)\n",
    "        background = Image.open(bg_path)\n",
    "\n",
    "        pic_width, pic_height = background.width, background.height\n",
    "\n",
    "        with Image.open(bg_path).convert(\"RGBA\") as base:\n",
    "        # make a blank image for the text, initialized to transparent text color\n",
    "            txt = Image.new(\"RGBA\", base.size, (255, 255, 255,0))\n",
    "\n",
    "            # get a drawing context\n",
    "            d = ImageDraw.Draw(txt)\n",
    "\n",
    "            # draw text, half opacity, center the image\n",
    "            _, _, w, h = d.textbbox((0, 0), word, font = fnt)\n",
    "            d.text(((pic_width-w)/2, (pic_height-h)/2), word, font=fnt, fill=255,\n",
    "                                        stroke_width = 10, stroke_fill = \"white\")\n",
    "            d.textlength(word, font=fnt)\n",
    "\n",
    "            # draw text, full opacity\n",
    "            out = Image.alpha_composite(base, txt)\n",
    "\n",
    "            # if you want to test, you can use out.show()\n",
    "            # out.show()\n",
    "            # Save the image\n",
    "            out = out.convert(\"RGB\")\n",
    "            output_path = os.path.join(output_dir, f\"{category_of_your_stimuli}-{idx}.jpeg\")\n",
    "            out.save(output_path)\n",
    "\n",
    "            if doCB:\n",
    "                top_image = Image.new('RGB', [w, h], (255, 255, 255))\n",
    "                draw = ImageDraw.Draw(top_image)\n",
    "\n",
    "                # Set the colors\n",
    "                number_of_square_across = 10\n",
    "\n",
    "                # Set the colors\n",
    "                color_one = (0, 0, 0)\n",
    "                color_two = (0, 0, 255)\n",
    "\n",
    "                length_of_square = h/number_of_square_across\n",
    "                length_of_two_squares = h/number_of_square_across*2\n",
    "                pixels = top_image.load()  # create the pixel map\n",
    "\n",
    "                for i in range(h):\n",
    "                    # for every 100 pixels out of the total 500\n",
    "                    # if its the first 50 pixels\n",
    "                    if (i % length_of_two_squares) >= length_of_square:\n",
    "                        for j in range(w):\n",
    "                            if (j % length_of_two_squares) < length_of_square:\n",
    "                                pixels[i,j] = color_one\n",
    "                            else:\n",
    "                                pixels[i,j] = color_two\n",
    "\n",
    "                    # else its the second 50 pixels\n",
    "                    else:\n",
    "                        for j in range(w):\n",
    "                            if (j % length_of_two_squares) >= length_of_square:\n",
    "                                pixels[i,j] = color_one\n",
    "                            else:\n",
    "                                pixels[i,j] = color_two\n",
    "\n",
    "                top_image.show()\n",
    "\n",
    "\n",
    "\n",
    "\n",
    "\n",
    "\n",
    "\n",
    "\n",
    "            if doSC:"
   ],
   "metadata": {
    "collapsed": false
   }
  },
  {
   "cell_type": "code",
   "execution_count": 195,
   "outputs": [],
   "source": [
    "\n",
    "txt = Image.new(\"RGBA\", background.size, (255, 255, 255,0))\n",
    "\n",
    "# get a drawing context\n",
    "d = ImageDraw.Draw(txt)\n",
    "\n",
    "# draw text, half opacity, center the image\n",
    "_, _, w, h = d.textbbox((0, 0), word, font=fnt)\n",
    "d.text(((pic_width - w) / 2, (pic_height - h) / 2), word, font=fnt, fill=(255,255,255),\n",
    "       stroke_width=2, stroke_fill=\"white\")\n",
    "\n",
    "\n",
    "\n",
    "# Calculate the number of tiles in each dimension\n",
    "num_tiles_x = w // 10\n",
    "num_tiles_y = h // 10\n",
    "\n",
    "txtbox= txt.crop(d.textbbox(((pic_width - w) / 2, (pic_height - h) / 2), word, font=fnt))\n",
    "txtbox.show()"
   ],
   "metadata": {
    "collapsed": false
   }
  },
  {
   "cell_type": "code",
   "execution_count": 179,
   "outputs": [
    {
     "data": {
      "text/plain": "565"
     },
     "execution_count": 179,
     "metadata": {},
     "output_type": "execute_result"
    }
   ],
   "source": [
    "num_tiles_x\n",
    "w"
   ],
   "metadata": {
    "collapsed": false
   }
  },
  {
   "cell_type": "code",
   "execution_count": 188,
   "outputs": [],
   "source": [
    "pic_width, pic_height = background.width, background.height\n",
    "\n",
    "\n",
    "# Create a list to store the tiles\n",
    "tiles = []\n",
    "bbox=d.textbbox(((pic_width - w) / 2, (pic_height - h) / 2), word, font=fnt)\n",
    "txtbox = txt.crop(bbox)\n",
    "# Extract 10x10 pixel tiles from the image\n",
    "for y in range(num_tiles_y):\n",
    "    for x in range(num_tiles_x):\n",
    "        left = x * 10\n",
    "        upper = y * 10\n",
    "        right = left + 10\n",
    "        lower = upper + 10\n",
    "        tile = txtbox.crop((left, upper, right, lower))\n",
    "        tiles.append(tile)\n",
    "\n",
    "# Randomly shuffle the tiles\n",
    "random.shuffle(tiles)"
   ],
   "metadata": {
    "collapsed": false
   }
  },
  {
   "cell_type": "code",
   "execution_count": 198,
   "outputs": [
    {
     "data": {
      "text/plain": "(565, 191)"
     },
     "execution_count": 198,
     "metadata": {},
     "output_type": "execute_result"
    }
   ],
   "source": [
    "(w,h)"
   ],
   "metadata": {
    "collapsed": false
   }
  },
  {
   "cell_type": "code",
   "execution_count": 206,
   "outputs": [
    {
     "ename": "TypeError",
     "evalue": "integer argument expected, got float",
     "output_type": "error",
     "traceback": [
      "\u001B[0;31m---------------------------------------------------------------------------\u001B[0m",
      "\u001B[0;31mTypeError\u001B[0m                                 Traceback (most recent call last)",
      "Cell \u001B[0;32mIn[206], line 12\u001B[0m\n\u001B[1;32m      9\u001B[0m         upper \u001B[38;5;241m=\u001B[39m y \u001B[38;5;241m*\u001B[39m \u001B[38;5;241m10\u001B[39m\n\u001B[1;32m     10\u001B[0m         scrambled_image\u001B[38;5;241m.\u001B[39mpaste(tiles[index], (left, upper))\n\u001B[0;32m---> 12\u001B[0m \u001B[43mbackground\u001B[49m\u001B[38;5;241;43m.\u001B[39;49m\u001B[43mpaste\u001B[49m\u001B[43m(\u001B[49m\u001B[43mscrambled_image\u001B[49m\u001B[43m,\u001B[49m\u001B[43m \u001B[49m\u001B[43m(\u001B[49m\u001B[43m(\u001B[49m\u001B[43mpic_width\u001B[49m\u001B[43m \u001B[49m\u001B[38;5;241;43m-\u001B[39;49m\u001B[43m \u001B[49m\u001B[43mw\u001B[49m\u001B[43m)\u001B[49m\u001B[43m \u001B[49m\u001B[38;5;241;43m/\u001B[39;49m\u001B[43m \u001B[49m\u001B[38;5;241;43m2\u001B[39;49m\u001B[43m,\u001B[49m\u001B[43m \u001B[49m\u001B[43m(\u001B[49m\u001B[43mpic_height\u001B[49m\u001B[43m \u001B[49m\u001B[38;5;241;43m-\u001B[39;49m\u001B[43m \u001B[49m\u001B[43mh\u001B[49m\u001B[43m)\u001B[49m\u001B[43m \u001B[49m\u001B[38;5;241;43m/\u001B[39;49m\u001B[43m \u001B[49m\u001B[38;5;241;43m2\u001B[39;49m\u001B[43m)\u001B[49m\u001B[43m)\u001B[49m\n\u001B[1;32m     14\u001B[0m background\u001B[38;5;241m.\u001B[39mshow()\n",
      "File \u001B[0;32m~/opt/anaconda3/envs/votc-langorth/lib/python3.8/site-packages/PIL/Image.py:1740\u001B[0m, in \u001B[0;36mImage.paste\u001B[0;34m(self, im, box, mask)\u001B[0m\n\u001B[1;32m   1738\u001B[0m     \u001B[38;5;28mself\u001B[39m\u001B[38;5;241m.\u001B[39mim\u001B[38;5;241m.\u001B[39mpaste(im, box, mask\u001B[38;5;241m.\u001B[39mim)\n\u001B[1;32m   1739\u001B[0m \u001B[38;5;28;01melse\u001B[39;00m:\n\u001B[0;32m-> 1740\u001B[0m     \u001B[38;5;28;43mself\u001B[39;49m\u001B[38;5;241;43m.\u001B[39;49m\u001B[43mim\u001B[49m\u001B[38;5;241;43m.\u001B[39;49m\u001B[43mpaste\u001B[49m\u001B[43m(\u001B[49m\u001B[43mim\u001B[49m\u001B[43m,\u001B[49m\u001B[43m \u001B[49m\u001B[43mbox\u001B[49m\u001B[43m)\u001B[49m\n",
      "\u001B[0;31mTypeError\u001B[0m: integer argument expected, got float"
     ]
    }
   ],
   "source": [
    "\n",
    "# Create a new image to reconstruct the scrambled image\n",
    "scrambled_image = Image.new(\"RGBA\", (w,h), (255, 255, 255, 0))\n",
    "\n",
    "# Paste the shuffled tiles back into the image\n",
    "for y in range(num_tiles_y):\n",
    "    for x in range(num_tiles_x):\n",
    "        index = y * num_tiles_x + x\n",
    "        left = x * 10\n",
    "        upper = y * 10\n",
    "        scrambled_image.paste(tiles[index], (left, upper))\n",
    "\n",
    "background.paste(scrambled_image, ((pic_width - w) / 2, (pic_height - h) / 2), scrambled_image)\n",
    "\n",
    "background.show()"
   ],
   "metadata": {
    "collapsed": false
   }
  },
  {
   "cell_type": "code",
   "execution_count": 213,
   "outputs": [
    {
     "data": {
      "text/plain": "(229, 416)"
     },
     "execution_count": 213,
     "metadata": {},
     "output_type": "execute_result"
    }
   ],
   "source": [
    "((pic_width - w) // 2, (pic_height - h) //2)"
   ],
   "metadata": {
    "collapsed": false
   }
  },
  {
   "cell_type": "code",
   "execution_count": 212,
   "outputs": [],
   "source": [
    "\n",
    "background.paste(scrambled_image, (230,417), scrambled_image)\n",
    "\n",
    "background.show()"
   ],
   "metadata": {
    "collapsed": false
   }
  },
  {
   "cell_type": "code",
   "execution_count": null,
   "outputs": [],
   "source": [],
   "metadata": {
    "collapsed": false
   }
  }
 ],
 "metadata": {
  "kernelspec": {
   "display_name": "Python 3",
   "language": "python",
   "name": "python3"
  },
  "language_info": {
   "codemirror_mode": {
    "name": "ipython",
    "version": 2
   },
   "file_extension": ".py",
   "mimetype": "text/x-python",
   "name": "python",
   "nbconvert_exporter": "python",
   "pygments_lexer": "ipython2",
   "version": "2.7.6"
  }
 },
 "nbformat": 4,
 "nbformat_minor": 0
}
