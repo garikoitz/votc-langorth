{
 "cells": [
  {
   "cell_type": "markdown",
   "metadata": {},
   "source": [
    "1. Test if we can create the CB files\n",
    "2. Requiements: make the CB pictures rectangular, now it is square"
   ]
  },
  {
   "cell_type": "code",
   "execution_count": 1,
   "metadata": {
    "collapsed": false,
    "jupyter": {
     "outputs_hidden": false
    }
   },
   "outputs": [],
   "source": [
    "import os\n",
    "import random\n",
    "from PIL import Image, ImageDraw, ImageFont"
   ]
  },
  {
   "cell_type": "code",
   "execution_count": 5,
   "metadata": {
    "collapsed": false,
    "jupyter": {
     "outputs_hidden": false
    }
   },
   "outputs": [],
   "source": [
    "\n",
    "join = os.path.join\n",
    "bg_path= '/Users/tiger/Packages/toolbox/fLoc/stimuli/scrambled/scrambled-8.jpg'\n",
    "fonts_directory = \"/System/Library/Fonts/Supplemental/Arial Unicode.ttf\"\n",
    "\n",
    "fnt = ImageFont.truetype(fonts_directory, 150)\n",
    "word='example'"
   ]
  },
  {
   "cell_type": "code",
   "execution_count": 31,
   "metadata": {
    "collapsed": false,
    "jupyter": {
     "outputs_hidden": false
    }
   },
   "outputs": [],
   "source": [
    "\n",
    "background = Image.open(bg_path)\n",
    "\n",
    "pic_width, pic_height = background.width, background.height\n",
    "background.show()\n",
    "\n",
    "draw = ImageDraw.Draw(background)\n",
    "\n",
    "# draw text, half opacity, center the image\n",
    "_, _, w, h = draw.textbbox((0, 0), word, font = fnt)\n",
    "\n",
    "draw.text(((pic_width-w)/2, (pic_height-h)/2), word, font=fnt, fill=255,\n",
    "                            stroke_width = 2, stroke_fill = \"white\")\n",
    "draw.textlength(word, font=fnt)\n",
    "\n",
    "# draw text, full opacity\n",
    "\n",
    "background.show()\n",
    "output_path = os.path.join('/Users/tiger/Desktop', f\"{'test'}-{1}.jpeg\")\n",
    "background.save(output_path)"
   ]
  },
  {
   "cell_type": "code",
   "execution_count": 36,
   "metadata": {
    "collapsed": false,
    "jupyter": {
     "outputs_hidden": false
    }
   },
   "outputs": [
    {
     "data": {
      "text/plain": [
       "(0, 54, 565, 191)"
      ]
     },
     "execution_count": 36,
     "metadata": {},
     "output_type": "execute_result"
    }
   ],
   "source": [
    "draw.textbbox((0, 0), word, font = fnt)"
   ]
  },
  {
   "cell_type": "code",
   "execution_count": 45,
   "metadata": {
    "collapsed": false,
    "jupyter": {
     "outputs_hidden": false
    }
   },
   "outputs": [],
   "source": [
    "doCB=True\n",
    "if doCB:\n",
    "    top_image = Image.new('RGB', [500, 190], (255, 255, 255))\n",
    "    draw = ImageDraw.Draw(top_image)"
   ]
  },
  {
   "cell_type": "code",
   "execution_count": 46,
   "metadata": {
    "collapsed": false,
    "jupyter": {
     "outputs_hidden": false
    }
   },
   "outputs": [],
   "source": [
    "top_image.show()"
   ]
  },
  {
   "cell_type": "code",
   "execution_count": 47,
   "metadata": {
    "collapsed": false,
    "jupyter": {
     "outputs_hidden": false
    }
   },
   "outputs": [
    {
     "ename": "IndexError",
     "evalue": "image index out of range",
     "output_type": "error",
     "traceback": [
      "\u001b[0;31m---------------------------------------------------------------------------\u001b[0m",
      "\u001b[0;31mIndexError\u001b[0m                                Traceback (most recent call last)",
      "Cell \u001b[0;32mIn[47], line 26\u001b[0m\n\u001b[1;32m     24\u001b[0m \u001b[38;5;28;01mfor\u001b[39;00m j \u001b[38;5;129;01min\u001b[39;00m \u001b[38;5;28mrange\u001b[39m(w):\n\u001b[1;32m     25\u001b[0m     \u001b[38;5;28;01mif\u001b[39;00m (j \u001b[38;5;241m%\u001b[39m length_of_two_squares) \u001b[38;5;241m>\u001b[39m\u001b[38;5;241m=\u001b[39m length_of_square:\n\u001b[0;32m---> 26\u001b[0m         \u001b[43mpixels\u001b[49m\u001b[43m[\u001b[49m\u001b[43mi\u001b[49m\u001b[43m,\u001b[49m\u001b[43mj\u001b[49m\u001b[43m]\u001b[49m \u001b[38;5;241m=\u001b[39m color_one\n\u001b[1;32m     27\u001b[0m     \u001b[38;5;28;01melse\u001b[39;00m:\n\u001b[1;32m     28\u001b[0m         pixels[i,j] \u001b[38;5;241m=\u001b[39m color_two\n",
      "\u001b[0;31mIndexError\u001b[0m: image index out of range"
     ]
    }
   ],
   "source": [
    "\n",
    "    # Set the colors\n",
    "    number_of_square_across = 10\n",
    "\n",
    "    # Set the colors\n",
    "    color_one = (0, 0, 0)\n",
    "    color_two = (0, 0, 255)\n",
    "\n",
    "    length_of_square = h/number_of_square_across\n",
    "    length_of_two_squares = h/number_of_square_across*2\n",
    "    pixels = top_image.load()  # create the pixel map\n",
    "\n",
    "    for i in range(h):\n",
    "        # for every 100 pixels out of the total 500\n",
    "        # if its the first 50 pixels\n",
    "        if (i % length_of_two_squares) >= length_of_square:\n",
    "            for j in range(w):\n",
    "                if (j % length_of_two_squares) < length_of_square:\n",
    "                    pixels[i,j] = color_one\n",
    "                else:\n",
    "                    pixels[i,j] = color_two\n",
    "\n",
    "        # else its the second 50 pixels\n",
    "        else:\n",
    "            for j in range(w):\n",
    "                if (j % length_of_two_squares) >= length_of_square:\n",
    "                    pixels[i,j] = color_one\n",
    "                else:\n",
    "                    pixels[i,j] = color_two\n",
    "\n",
    "    top_image.show()\n"
   ]
  },
  {
   "cell_type": "code",
   "execution_count": 164,
   "metadata": {
    "collapsed": false,
    "jupyter": {
     "outputs_hidden": false
    }
   },
   "outputs": [
    {
     "name": "stdout",
     "output_type": "stream",
     "text": [
      "417\n",
      "437\n",
      "457\n",
      "477\n",
      "497\n",
      "517\n",
      "537\n",
      "557\n",
      "577\n",
      "597\n"
     ]
    }
   ],
   "source": [
    "from PIL import Image, ImageDraw\n",
    "import random\n",
    "\n",
    "\n",
    "def create_random_shape_checkboard(background_path, output_path, word, fnt=fnt):\n",
    "    # Load the background image\n",
    "    background = Image.open(background_path)\n",
    "\n",
    "    draw = ImageDraw.Draw(background)\n",
    "\n",
    "    # draw text, half opacity, center the image\n",
    "    _, _, w, h = draw.textbbox((0, 0), word, font = fnt)\n",
    "    canvas_width, canvas_height= background.size\n",
    "\n",
    "    # Define the location of the checkerboard (randomly)\n",
    "    cheker_center_x=  canvas_width//2\n",
    "    cheker_center_y=  canvas_height//2\n",
    "\n",
    "\n",
    "    x0,y0=cheker_center_x-w//2, cheker_center_y-h//2\n",
    "    x1,y1=cheker_center_x+w//2, cheker_center_y+h//2\n",
    "\n",
    "    # Draw a random shape (in this case, a rectangle)\n",
    "    draw.rectangle([x0,y0, x1,y1], fill=0)\n",
    "\n",
    "    # Draw the checkerboard pattern inside the shape\n",
    "    square_size = 20\n",
    "    for row in range(y0,y1, square_size):\n",
    "        print(row)\n",
    "        for col in range(x0, x1, square_size):\n",
    "            if (row // square_size + col // square_size) % 2 == 0:\n",
    "                draw.rectangle([col, row, col + square_size, row + square_size], fill=255)\n",
    "            else:\n",
    "                 draw.rectangle([col, row, col + square_size, row + square_size], fill=0)\n",
    "\n",
    "    background.save(output_path)\n",
    "# Example usage:\n",
    "  # Replace with your background image path\n",
    "output_image_path = os.path.join('/Users/tiger/Desktop', f\"{'checkers'}-{2}.png\")# Replace with the desired output image path\n",
    "create_random_shape_checkboard(bg_path, output_image_path, word, fnt)\n"
   ]
  },
  {
   "cell_type": "code",
   "execution_count": 125,
   "metadata": {
    "collapsed": false,
    "jupyter": {
     "outputs_hidden": false
    }
   },
   "outputs": [],
   "source": [
    "background = Image.open(bg_path)\n",
    "checker= Image.new('RGB', [w, h], (255, 255, 255))\n",
    "draw = ImageDraw.Draw(checker)\n",
    "canvas_width, canvas_height= background.size\n",
    "# draw text, half opacity, center the image\n",
    "_, _, w, h = draw.textbbox((0, 0), word, font = fnt)\n",
    "\n",
    "# Define the size of the checkerboard (randomly)\n",
    "checker_width = random.randint(w-100, w+100)\n",
    "checker_height = random.randint(h-100, h+100)\n",
    "\n",
    "# Define the location of the checkerboard (randomly)\n",
    "cheker_center_x=  random.randint(canvas_width//2-200,canvas_width//2+200)\n",
    "cheker_center_y=  random.randint(canvas_height//2-200,canvas_height//2+200)"
   ]
  },
  {
   "cell_type": "code",
   "execution_count": 126,
   "metadata": {
    "collapsed": false,
    "jupyter": {
     "outputs_hidden": false
    }
   },
   "outputs": [],
   "source": [
    "x0,y0=cheker_center_x-checker_width//2, cheker_center_y-checker_height//2\n",
    "x1,y1=cheker_center_x+checker_width//2, cheker_center_y+checker_height//2"
   ]
  },
  {
   "cell_type": "code",
   "execution_count": 127,
   "metadata": {
    "collapsed": false,
    "jupyter": {
     "outputs_hidden": false
    }
   },
   "outputs": [],
   "source": [
    "\n",
    "# Draw a random shape (in this case, a rectangle)\n",
    "draw.rectangle([x0, y0, x1, y1], fill=0)\n",
    "\n",
    "\n"
   ]
  },
  {
   "cell_type": "code",
   "execution_count": 161,
   "metadata": {
    "collapsed": false,
    "jupyter": {
     "outputs_hidden": false
    }
   },
   "outputs": [],
   "source": [
    "# Draw the checkerboard pattern inside the shape\n",
    "square_size = 10\n",
    "for row in range(y0, y1, square_size):\n",
    "    for col in range(x0, x1, square_size):\n",
    "        if (row // square_size + col // square_size) % 2 == 0:\n",
    "            draw.rectangle([col, row, col + square_size, row + square_size], fill=255)\n",
    "        else:\n",
    "            draw.rectangle([col, row, col + square_size, row + square_size], fill=0)\n",
    "checker.show()\n",
    "\n"
   ]
  },
  {
   "cell_type": "code",
   "execution_count": 136,
   "metadata": {
    "collapsed": false,
    "jupyter": {
     "outputs_hidden": false
    }
   },
   "outputs": [],
   "source": [
    "\n",
    "# Set the colors\n",
    "number_of_square_across = 10\n",
    "\n",
    "# Set the colors\n",
    "color_one = 0\n",
    "color_two = 255\n",
    "\n",
    "length_of_square = (y1-y0)/number_of_square_across\n",
    "length_of_two_squares = (y1-y0)/number_of_square_across*2\n",
    "pixels = checker.load()  # create the pixel map"
   ]
  },
  {
   "cell_type": "code",
   "execution_count": 137,
   "metadata": {
    "collapsed": false,
    "jupyter": {
     "outputs_hidden": false
    }
   },
   "outputs": [
    {
     "name": "stdout",
     "output_type": "stream",
     "text": [
      "191\n"
     ]
    },
    {
     "data": {
      "text/plain": [
       "19.2"
      ]
     },
     "execution_count": 137,
     "metadata": {},
     "output_type": "execute_result"
    }
   ],
   "source": [
    "print(h)\n",
    "length_of_two_squares"
   ]
  },
  {
   "cell_type": "code",
   "execution_count": 138,
   "metadata": {
    "collapsed": false,
    "jupyter": {
     "outputs_hidden": false
    }
   },
   "outputs": [
    {
     "ename": "IndexError",
     "evalue": "image index out of range",
     "output_type": "error",
     "traceback": [
      "\u001b[0;31m---------------------------------------------------------------------------\u001b[0m",
      "\u001b[0;31mIndexError\u001b[0m                                Traceback (most recent call last)",
      "Cell \u001b[0;32mIn[138], line 15\u001b[0m\n\u001b[1;32m     13\u001b[0m \u001b[38;5;28;01mfor\u001b[39;00m j \u001b[38;5;129;01min\u001b[39;00m \u001b[38;5;28mrange\u001b[39m(x1\u001b[38;5;241m-\u001b[39mx0):\n\u001b[1;32m     14\u001b[0m     \u001b[38;5;28;01mif\u001b[39;00m (j \u001b[38;5;241m%\u001b[39m length_of_two_squares) \u001b[38;5;241m>\u001b[39m\u001b[38;5;241m=\u001b[39m length_of_square:\n\u001b[0;32m---> 15\u001b[0m         \u001b[43mpixels\u001b[49m\u001b[43m[\u001b[49m\u001b[43mi\u001b[49m\u001b[43m,\u001b[49m\u001b[43mj\u001b[49m\u001b[43m]\u001b[49m \u001b[38;5;241m=\u001b[39m color_one\n\u001b[1;32m     16\u001b[0m     \u001b[38;5;28;01melse\u001b[39;00m:\n\u001b[1;32m     17\u001b[0m         pixels[i,j] \u001b[38;5;241m=\u001b[39m color_two\n",
      "\u001b[0;31mIndexError\u001b[0m: image index out of range"
     ]
    }
   ],
   "source": [
    "\n",
    "for i in range(y1-y0):\n",
    "    # for every 100 pixels out of the total 500\n",
    "    # if its the first 50 pixels\n",
    "    if (i % length_of_two_squares) >= length_of_square:\n",
    "        for j in range(x1-x0):\n",
    "            if (j % length_of_two_squares) < length_of_square:\n",
    "                pixels[i,j] = color_one\n",
    "            else:\n",
    "                pixels[i,j] = color_two\n",
    "\n",
    "    # else its the second 50 pixels\n",
    "    else:\n",
    "        for j in range(x1-x0):\n",
    "            if (j % length_of_two_squares) >= length_of_square:\n",
    "                pixels[i,j] = color_one\n",
    "            else:\n",
    "                pixels[i,j] = color_two\n",
    "\n",
    "checker.show()"
   ]
  },
  {
   "cell_type": "code",
   "execution_count": 140,
   "metadata": {
    "collapsed": false,
    "jupyter": {
     "outputs_hidden": false
    }
   },
   "outputs": [
    {
     "name": "stdout",
     "output_type": "stream",
     "text": [
      "0\n",
      "1\n",
      "2\n",
      "3\n",
      "4\n",
      "5\n",
      "6\n",
      "7\n",
      "8\n",
      "9\n",
      "10\n",
      "11\n",
      "12\n",
      "13\n",
      "14\n",
      "15\n",
      "16\n",
      "17\n",
      "18\n",
      "19\n",
      "20\n",
      "21\n",
      "22\n",
      "23\n",
      "24\n",
      "25\n",
      "26\n",
      "27\n",
      "28\n",
      "29\n",
      "30\n",
      "31\n",
      "32\n",
      "33\n",
      "34\n",
      "35\n",
      "36\n",
      "37\n",
      "38\n",
      "39\n",
      "40\n",
      "41\n",
      "42\n",
      "43\n",
      "44\n",
      "45\n",
      "46\n",
      "47\n",
      "48\n",
      "49\n",
      "50\n",
      "51\n",
      "52\n",
      "53\n",
      "54\n",
      "55\n",
      "56\n",
      "57\n",
      "58\n",
      "59\n",
      "60\n",
      "61\n",
      "62\n",
      "63\n",
      "64\n",
      "65\n",
      "66\n",
      "67\n",
      "68\n",
      "69\n",
      "70\n",
      "71\n",
      "72\n",
      "73\n",
      "74\n",
      "75\n",
      "76\n",
      "77\n",
      "78\n",
      "79\n",
      "80\n",
      "81\n",
      "82\n",
      "83\n",
      "84\n",
      "85\n",
      "86\n",
      "87\n",
      "88\n",
      "89\n",
      "90\n",
      "91\n",
      "92\n",
      "93\n",
      "94\n",
      "95\n"
     ]
    }
   ],
   "source": [
    "for i in range(y1-y0):\n",
    "    print (i)\n"
   ]
  },
  {
   "cell_type": "code",
   "execution_count": 134,
   "metadata": {
    "collapsed": false,
    "jupyter": {
     "outputs_hidden": false
    }
   },
   "outputs": [
    {
     "data": {
      "text/plain": [
       "459"
      ]
     },
     "execution_count": 134,
     "metadata": {},
     "output_type": "execute_result"
    }
   ],
   "source": [
    "y0"
   ]
  },
  {
   "cell_type": "code",
   "execution_count": 135,
   "metadata": {
    "collapsed": false,
    "jupyter": {
     "outputs_hidden": false
    }
   },
   "outputs": [
    {
     "data": {
      "text/plain": [
       "555"
      ]
     },
     "execution_count": 135,
     "metadata": {},
     "output_type": "execute_result"
    }
   ],
   "source": [
    "y1"
   ]
  },
  {
   "cell_type": "code",
   "execution_count": 146,
   "metadata": {
    "collapsed": false,
    "jupyter": {
     "outputs_hidden": false
    }
   },
   "outputs": [
    {
     "ename": "TypeError",
     "evalue": "unsupported operand type(s) for -: 'tuple' and 'int'",
     "output_type": "error",
     "traceback": [
      "\u001b[0;31m---------------------------------------------------------------------------\u001b[0m",
      "\u001b[0;31mTypeError\u001b[0m                                 Traceback (most recent call last)",
      "Cell \u001b[0;32mIn[146], line 10\u001b[0m\n\u001b[1;32m      6\u001b[0m cheker_center_x\u001b[38;5;241m=\u001b[39m  canvas_width\u001b[38;5;241m/\u001b[39m\u001b[38;5;241m/\u001b[39m\u001b[38;5;241m2\u001b[39m,canvas_width\u001b[38;5;241m/\u001b[39m\u001b[38;5;241m/\u001b[39m\u001b[38;5;241m2\u001b[39m\n\u001b[1;32m      7\u001b[0m cheker_center_y\u001b[38;5;241m=\u001b[39m  canvas_height\u001b[38;5;241m/\u001b[39m\u001b[38;5;241m/\u001b[39m\u001b[38;5;241m2\u001b[39m,canvas_height\u001b[38;5;241m/\u001b[39m\u001b[38;5;241m/\u001b[39m\u001b[38;5;241m2\u001b[39m\n\u001b[0;32m---> 10\u001b[0m x0,y0\u001b[38;5;241m=\u001b[39m\u001b[43mcheker_center_x\u001b[49m\u001b[38;5;241;43m-\u001b[39;49m\u001b[43mchecker_width\u001b[49m\u001b[38;5;241;43m/\u001b[39;49m\u001b[38;5;241;43m/\u001b[39;49m\u001b[38;5;241;43m2\u001b[39;49m, cheker_center_y\u001b[38;5;241m-\u001b[39mchecker_height\u001b[38;5;241m/\u001b[39m\u001b[38;5;241m/\u001b[39m\u001b[38;5;241m2\u001b[39m\n\u001b[1;32m     11\u001b[0m x1,y1\u001b[38;5;241m=\u001b[39mcheker_center_x\u001b[38;5;241m+\u001b[39mchecker_width\u001b[38;5;241m/\u001b[39m\u001b[38;5;241m/\u001b[39m\u001b[38;5;241m2\u001b[39m, cheker_center_y\u001b[38;5;241m+\u001b[39mchecker_height\u001b[38;5;241m/\u001b[39m\u001b[38;5;241m/\u001b[39m\u001b[38;5;241m2\u001b[39m\n",
      "\u001b[0;31mTypeError\u001b[0m: unsupported operand type(s) for -: 'tuple' and 'int'"
     ]
    }
   ],
   "source": [
    "    # draw text, half opacity, center the image\n",
    "    _, _, w, h = draw.textbbox((0, 0), word, font = fnt)\n",
    "    canvas_width, canvas_height= background.size\n",
    "\n",
    "    # Define the location of the checkerboard (randomly)\n",
    "    cheker_center_x=  canvas_width//2,canvas_width//2\n",
    "    cheker_center_y=  canvas_height//2,canvas_height//2\n",
    "\n",
    "\n",
    "    x0,y0=cheker_center_x-checker_width//2, cheker_center_y-checker_height//2\n",
    "    x1,y1=cheker_center_x+checker_width//2, cheker_center_y+checker_height//2\n"
   ]
  },
  {
   "cell_type": "code",
   "execution_count": 154,
   "metadata": {
    "collapsed": false,
    "jupyter": {
     "outputs_hidden": false
    }
   },
   "outputs": [],
   "source": [
    "\n",
    "    # draw text, half opacity, center the image\n",
    "    _, _, w, h = draw.textbbox((0, 0), word, font = fnt)\n",
    "    canvas_width, canvas_height= background.size\n",
    "\n",
    "    # Define the location of the checkerboard (randomly)\n",
    "    cheker_center_x=  canvas_width//2\n",
    "    cheker_center_y=  canvas_height//2\n",
    "\n",
    "\n",
    "    x0,y0=cheker_center_x-w//2, cheker_center_y-h//2\n"
   ]
  },
  {
   "cell_type": "code",
   "execution_count": 153,
   "metadata": {
    "collapsed": false,
    "jupyter": {
     "outputs_hidden": false
    }
   },
   "outputs": [
    {
     "data": {
      "text/plain": [
       "(512, 512)"
      ]
     },
     "execution_count": 153,
     "metadata": {},
     "output_type": "execute_result"
    }
   ],
   "source": [
    "cheker_center_x"
   ]
  },
  {
   "cell_type": "code",
   "execution_count": 152,
   "metadata": {
    "collapsed": false,
    "jupyter": {
     "outputs_hidden": false
    }
   },
   "outputs": [
    {
     "data": {
      "text/plain": [
       "191"
      ]
     },
     "execution_count": 152,
     "metadata": {},
     "output_type": "execute_result"
    }
   ],
   "source": [
    "h"
   ]
  },
  {
   "cell_type": "code",
   "execution_count": 159,
   "metadata": {
    "collapsed": false,
    "jupyter": {
     "outputs_hidden": false
    }
   },
   "outputs": [
    {
     "name": "stdout",
     "output_type": "stream",
     "text": [
      "417\n",
      "437\n",
      "457\n",
      "477\n",
      "497\n",
      "517\n",
      "537\n"
     ]
    }
   ],
   "source": [
    "    square_size = 20\n",
    "    for row in range(y0,y1, square_size):\n",
    "        print(row)\n",
    "        for col in range(x0, x1, square_size):\n",
    "            if (row // square_size + col // square_size) % 2 == 0:\n",
    "                draw.rectangle([col, row, col + square_size, row + square_size], fill=255)\n"
   ]
  },
  {
   "cell_type": "code",
   "execution_count": 160,
   "metadata": {
    "collapsed": false,
    "jupyter": {
     "outputs_hidden": false
    }
   },
   "outputs": [
    {
     "data": {
      "text/plain": [
       "555"
      ]
     },
     "execution_count": 160,
     "metadata": {},
     "output_type": "execute_result"
    }
   ],
   "source": [
    "y1"
   ]
  },
  {
   "cell_type": "code",
   "execution_count": 165,
   "metadata": {
    "collapsed": false,
    "jupyter": {
     "outputs_hidden": false
    }
   },
   "outputs": [
    {
     "ename": "SyntaxError",
     "evalue": "unexpected EOF while parsing (2546509593.py, line 84)",
     "output_type": "error",
     "traceback": [
      "\u001b[0;36m  Cell \u001b[0;32mIn[165], line 84\u001b[0;36m\u001b[0m\n\u001b[0;31m    if doSC:\u001b[0m\n\u001b[0m            ^\u001b[0m\n\u001b[0;31mSyntaxError\u001b[0m\u001b[0;31m:\u001b[0m unexpected EOF while parsing\n"
     ]
    }
   ],
   "source": [
    "def create_word_images(category_of_your_stimuli, word_list,\n",
    "                       backgrounds_directory, output_dir,\n",
    "                       fonts_directory, font_size=150, doSC, doCB):\n",
    "\n",
    "    # Get all image files for backgrounds\n",
    "    background_paths = get_image_files(backgrounds_directory)\n",
    "\n",
    "    # Get all .ttf fonts from the specified directory\n",
    "    fnt = ImageFont.truetype(fonts_directory, font_size)\n",
    "\n",
    "    for idx in range(len(word_list)):\n",
    "        # Select a random background\n",
    "        word = word_list[idx]\n",
    "        bg_path = random.choice(background_paths)\n",
    "        background = Image.open(bg_path)\n",
    "\n",
    "        pic_width, pic_height = background.width, background.height\n",
    "\n",
    "        with Image.open(bg_path).convert(\"RGBA\") as base:\n",
    "        # make a blank image for the text, initialized to transparent text color\n",
    "            txt = Image.new(\"RGBA\", base.size, (255, 255, 255,0))\n",
    "\n",
    "            # get a drawing context\n",
    "            d = ImageDraw.Draw(txt)\n",
    "\n",
    "            # draw text, half opacity, center the image\n",
    "            _, _, w, h = d.textbbox((0, 0), word, font = fnt)\n",
    "            d.text(((pic_width-w)/2, (pic_height-h)/2), word, font=fnt, fill=255,\n",
    "                                        stroke_width = 10, stroke_fill = \"white\")\n",
    "            d.textlength(word, font=fnt)\n",
    "\n",
    "            # draw text, full opacity\n",
    "            out = Image.alpha_composite(base, txt)\n",
    "\n",
    "            # if you want to test, you can use out.show()\n",
    "            # out.show()\n",
    "            # Save the image\n",
    "            out = out.convert(\"RGB\")\n",
    "            output_path = os.path.join(output_dir, f\"{category_of_your_stimuli}-{idx}.jpeg\")\n",
    "            out.save(output_path)\n",
    "\n",
    "            if doCB:\n",
    "                top_image = Image.new('RGB', [w, h], (255, 255, 255))\n",
    "                draw = ImageDraw.Draw(top_image)\n",
    "\n",
    "                # Set the colors\n",
    "                number_of_square_across = 10\n",
    "\n",
    "                # Set the colors\n",
    "                color_one = (0, 0, 0)\n",
    "                color_two = (0, 0, 255)\n",
    "\n",
    "                length_of_square = h/number_of_square_across\n",
    "                length_of_two_squares = h/number_of_square_across*2\n",
    "                pixels = top_image.load()  # create the pixel map\n",
    "\n",
    "                for i in range(h):\n",
    "                    # for every 100 pixels out of the total 500\n",
    "                    # if its the first 50 pixels\n",
    "                    if (i % length_of_two_squares) >= length_of_square:\n",
    "                        for j in range(w):\n",
    "                            if (j % length_of_two_squares) < length_of_square:\n",
    "                                pixels[i,j] = color_one\n",
    "                            else:\n",
    "                                pixels[i,j] = color_two\n",
    "\n",
    "                    # else its the second 50 pixels\n",
    "                    else:\n",
    "                        for j in range(w):\n",
    "                            if (j % length_of_two_squares) >= length_of_square:\n",
    "                                pixels[i,j] = color_one\n",
    "                            else:\n",
    "                                pixels[i,j] = color_two\n",
    "\n",
    "                top_image.show()\n",
    "\n",
    "\n",
    "\n",
    "\n",
    "\n",
    "\n",
    "\n",
    "\n",
    "            if doSC:"
   ]
  },
  {
   "cell_type": "code",
   "execution_count": 195,
   "metadata": {
    "collapsed": false,
    "jupyter": {
     "outputs_hidden": false
    }
   },
   "outputs": [],
   "source": [
    "\n",
    "txt = Image.new(\"RGBA\", background.size, (255, 255, 255,0))\n",
    "\n",
    "# get a drawing context\n",
    "d = ImageDraw.Draw(txt)\n",
    "\n",
    "# draw text, half opacity, center the image\n",
    "_, _, w, h = d.textbbox((0, 0), word, font=fnt)\n",
    "d.text(((pic_width - w) / 2, (pic_height - h) / 2), word, font=fnt, fill=(255,255,255),\n",
    "       stroke_width=2, stroke_fill=\"white\")\n",
    "\n",
    "\n",
    "\n",
    "# Calculate the number of tiles in each dimension\n",
    "num_tiles_x = w // 10\n",
    "num_tiles_y = h // 10\n",
    "\n",
    "txtbox= txt.crop(d.textbbox(((pic_width - w) / 2, (pic_height - h) / 2), word, font=fnt))\n",
    "txtbox.show()"
   ]
  },
  {
   "cell_type": "code",
   "execution_count": 179,
   "metadata": {
    "collapsed": false,
    "jupyter": {
     "outputs_hidden": false
    }
   },
   "outputs": [
    {
     "data": {
      "text/plain": [
       "565"
      ]
     },
     "execution_count": 179,
     "metadata": {},
     "output_type": "execute_result"
    }
   ],
   "source": [
    "num_tiles_x\n",
    "w"
   ]
  },
  {
   "cell_type": "code",
   "execution_count": 188,
   "metadata": {
    "collapsed": false,
    "jupyter": {
     "outputs_hidden": false
    }
   },
   "outputs": [],
   "source": [
    "pic_width, pic_height = background.width, background.height\n",
    "\n",
    "\n",
    "# Create a list to store the tiles\n",
    "tiles = []\n",
    "bbox=d.textbbox(((pic_width - w) / 2, (pic_height - h) / 2), word, font=fnt)\n",
    "txtbox = txt.crop(bbox)\n",
    "# Extract 10x10 pixel tiles from the image\n",
    "for y in range(num_tiles_y):\n",
    "    for x in range(num_tiles_x):\n",
    "        left = x * 10\n",
    "        upper = y * 10\n",
    "        right = left + 10\n",
    "        lower = upper + 10\n",
    "        tile = txtbox.crop((left, upper, right, lower))\n",
    "        tiles.append(tile)\n",
    "\n",
    "# Randomly shuffle the tiles\n",
    "random.shuffle(tiles)"
   ]
  },
  {
   "cell_type": "code",
   "execution_count": 198,
   "metadata": {
    "collapsed": false,
    "jupyter": {
     "outputs_hidden": false
    }
   },
   "outputs": [
    {
     "data": {
      "text/plain": [
       "(565, 191)"
      ]
     },
     "execution_count": 198,
     "metadata": {},
     "output_type": "execute_result"
    }
   ],
   "source": [
    "(w,h)"
   ]
  },
  {
   "cell_type": "code",
   "execution_count": 206,
   "metadata": {
    "collapsed": false,
    "jupyter": {
     "outputs_hidden": false
    }
   },
   "outputs": [
    {
     "ename": "TypeError",
     "evalue": "integer argument expected, got float",
     "output_type": "error",
     "traceback": [
      "\u001b[0;31m---------------------------------------------------------------------------\u001b[0m",
      "\u001b[0;31mTypeError\u001b[0m                                 Traceback (most recent call last)",
      "Cell \u001b[0;32mIn[206], line 12\u001b[0m\n\u001b[1;32m      9\u001b[0m         upper \u001b[38;5;241m=\u001b[39m y \u001b[38;5;241m*\u001b[39m \u001b[38;5;241m10\u001b[39m\n\u001b[1;32m     10\u001b[0m         scrambled_image\u001b[38;5;241m.\u001b[39mpaste(tiles[index], (left, upper))\n\u001b[0;32m---> 12\u001b[0m \u001b[43mbackground\u001b[49m\u001b[38;5;241;43m.\u001b[39;49m\u001b[43mpaste\u001b[49m\u001b[43m(\u001b[49m\u001b[43mscrambled_image\u001b[49m\u001b[43m,\u001b[49m\u001b[43m \u001b[49m\u001b[43m(\u001b[49m\u001b[43m(\u001b[49m\u001b[43mpic_width\u001b[49m\u001b[43m \u001b[49m\u001b[38;5;241;43m-\u001b[39;49m\u001b[43m \u001b[49m\u001b[43mw\u001b[49m\u001b[43m)\u001b[49m\u001b[43m \u001b[49m\u001b[38;5;241;43m/\u001b[39;49m\u001b[43m \u001b[49m\u001b[38;5;241;43m2\u001b[39;49m\u001b[43m,\u001b[49m\u001b[43m \u001b[49m\u001b[43m(\u001b[49m\u001b[43mpic_height\u001b[49m\u001b[43m \u001b[49m\u001b[38;5;241;43m-\u001b[39;49m\u001b[43m \u001b[49m\u001b[43mh\u001b[49m\u001b[43m)\u001b[49m\u001b[43m \u001b[49m\u001b[38;5;241;43m/\u001b[39;49m\u001b[43m \u001b[49m\u001b[38;5;241;43m2\u001b[39;49m\u001b[43m)\u001b[49m\u001b[43m)\u001b[49m\n\u001b[1;32m     14\u001b[0m background\u001b[38;5;241m.\u001b[39mshow()\n",
      "File \u001b[0;32m~/opt/anaconda3/envs/votc-langorth/lib/python3.8/site-packages/PIL/Image.py:1740\u001b[0m, in \u001b[0;36mImage.paste\u001b[0;34m(self, im, box, mask)\u001b[0m\n\u001b[1;32m   1738\u001b[0m     \u001b[38;5;28mself\u001b[39m\u001b[38;5;241m.\u001b[39mim\u001b[38;5;241m.\u001b[39mpaste(im, box, mask\u001b[38;5;241m.\u001b[39mim)\n\u001b[1;32m   1739\u001b[0m \u001b[38;5;28;01melse\u001b[39;00m:\n\u001b[0;32m-> 1740\u001b[0m     \u001b[38;5;28;43mself\u001b[39;49m\u001b[38;5;241;43m.\u001b[39;49m\u001b[43mim\u001b[49m\u001b[38;5;241;43m.\u001b[39;49m\u001b[43mpaste\u001b[49m\u001b[43m(\u001b[49m\u001b[43mim\u001b[49m\u001b[43m,\u001b[49m\u001b[43m \u001b[49m\u001b[43mbox\u001b[49m\u001b[43m)\u001b[49m\n",
      "\u001b[0;31mTypeError\u001b[0m: integer argument expected, got float"
     ]
    }
   ],
   "source": [
    "\n",
    "# Create a new image to reconstruct the scrambled image\n",
    "scrambled_image = Image.new(\"RGBA\", (w,h), (255, 255, 255, 0))\n",
    "\n",
    "# Paste the shuffled tiles back into the image\n",
    "for y in range(num_tiles_y):\n",
    "    for x in range(num_tiles_x):\n",
    "        index = y * num_tiles_x + x\n",
    "        left = x * 10\n",
    "        upper = y * 10\n",
    "        scrambled_image.paste(tiles[index], (left, upper))\n",
    "\n",
    "background.paste(scrambled_image, ((pic_width - w) / 2, (pic_height - h) / 2), scrambled_image)\n",
    "\n",
    "background.show()"
   ]
  },
  {
   "cell_type": "code",
   "execution_count": 213,
   "metadata": {
    "collapsed": false,
    "jupyter": {
     "outputs_hidden": false
    }
   },
   "outputs": [
    {
     "data": {
      "text/plain": [
       "(229, 416)"
      ]
     },
     "execution_count": 213,
     "metadata": {},
     "output_type": "execute_result"
    }
   ],
   "source": [
    "((pic_width - w) // 2, (pic_height - h) //2)"
   ]
  },
  {
   "cell_type": "code",
   "execution_count": 212,
   "metadata": {
    "collapsed": false,
    "jupyter": {
     "outputs_hidden": false
    }
   },
   "outputs": [],
   "source": [
    "\n",
    "background.paste(scrambled_image, (230,417), scrambled_image)\n",
    "\n",
    "background.show()"
   ]
  },
  {
   "cell_type": "markdown",
   "metadata": {},
   "source": [
    "## Generate Chinese Stimuli"
   ]
  },
  {
   "cell_type": "code",
   "execution_count": 60,
   "metadata": {},
   "outputs": [],
   "source": [
    "import os\n",
    "from PIL import Image, ImageDraw, ImageFont\n",
    "import numpy as np\n",
    "\n",
    "\n",
    "def get_image_files(directory):\n",
    "    \"\"\"List all image files in the votcloc/stimuli/scrambled.\"\"\"\n",
    "    supported_formats = ['.jpeg', '.jpg', '.png', '.bmp', '.gif']  # Add or remove formats as needed\n",
    "    image_files = []\n",
    "    for file in os.listdir(directory):\n",
    "        if any(file.endswith(ext) for ext in supported_formats):\n",
    "            image_files.append(os.path.join(directory, file))\n",
    "    return image_files\n",
    "\n",
    "\n",
    "\n",
    "\n",
    "def CN_word_transbg(image_path, output_dir):\n",
    "    '''\n",
    "    Get CN character from a grey background file\n",
    "    input file size 308*308\n",
    "\n",
    "    Output\n",
    "    CN character in transparent background\n",
    "    color can be set, default black\n",
    "    '''\n",
    "    \n",
    "    image = Image.open(image_path).convert(\"RGBA\")\n",
    "    data = np.array(image)\n",
    "    # Get the RGBA profile of this figure, threshold the region with grey background\n",
    "    red, green, blue, alpha = data.T\n",
    "    threshold = 127 \n",
    "    grey_region = (red > threshold) & (green > threshold) & (blue > threshold)\n",
    "    word_region=~grey_region\n",
    "\n",
    "    data2=data\n",
    "\n",
    "    data2[..., :-1][word_region.T] = (255, 255, 255)  # Set the color to black (can be adjusted)\n",
    "    data2[..., -1][word_region.T] = 255  # Set the alpha channel to 0 (transparent)\n",
    "    data2[..., :-1][grey_region.T] = (128, 128, 128)  # Set the color to black (can be adjusted)\n",
    "    data2[..., -1][grey_region.T] = 0  # Set the alpha channel to 0 (transparent)\n",
    "    result_image = Image.fromarray(data2)\n",
    "    input_name= os.path.basename(image_path)\n",
    "    cat= input_name.split('_')[0]\n",
    "    output_name=input_name.replace(cat, 'TransBG-'+cat)\n",
    "    result_image.save(os.path.join(output_dir,output_name))\n",
    "\n",
    "    return result_image\n",
    "\n",
    "\n",
    "input_CN_dir='/Users/tiger/toolboxes/votc-langorth/DATA/output/ZH_PNG'\n",
    "CN_image_files= get_image_files(input_CN_dir)\n",
    "output_dir='/Users/tiger/toolboxes/votc-langorth/DATA/CN_stim'\n",
    "\n",
    "if not os.path.isdir(output_dir):\n",
    "    os.makedirs(output_dir)"
   ]
  },
  {
   "cell_type": "code",
   "execution_count": 61,
   "metadata": {},
   "outputs": [],
   "source": [
    "list_output_dir=[output_dir]*len(CN_image_files)"
   ]
  },
  {
   "cell_type": "markdown",
   "metadata": {},
   "source": [
    "### Multiprocessing for parallel creation"
   ]
  },
  {
   "cell_type": "code",
   "execution_count": 63,
   "metadata": {},
   "outputs": [
    {
     "name": "stdout",
     "output_type": "stream",
     "text": [
      "<PIL.Image.Image image mode=RGBA size=307x307 at 0x14F1A47C0>\n",
      "<PIL.Image.Image image mode=RGBA size=308x308 at 0x139FCCD90>\n",
      "<PIL.Image.Image image mode=RGBA size=308x308 at 0x139FCE830>\n",
      "<PIL.Image.Image image mode=RGBA size=308x308 at 0x14DC6C910>\n",
      "<PIL.Image.Image image mode=RGBA size=308x308 at 0x14F1929E0>\n",
      "<PIL.Image.Image image mode=RGBA size=308x308 at 0x14D8AF3D0>\n",
      "<PIL.Image.Image image mode=RGBA size=308x308 at 0x14D8AD660>\n",
      "<PIL.Image.Image image mode=RGBA size=308x308 at 0x139FCC370>\n",
      "<PIL.Image.Image image mode=RGBA size=308x308 at 0x14F1A7820>\n",
      "<PIL.Image.Image image mode=RGBA size=307x307 at 0x139FCF040>\n",
      "<PIL.Image.Image image mode=RGBA size=307x307 at 0x139FCD840>\n",
      "<PIL.Image.Image image mode=RGBA size=307x307 at 0x14DC6EC80>\n",
      "<PIL.Image.Image image mode=RGBA size=307x307 at 0x14DC6D1B0>\n",
      "<PIL.Image.Image image mode=RGBA size=307x307 at 0x14F190370>\n",
      "<PIL.Image.Image image mode=RGBA size=307x307 at 0x14F1A7700>\n",
      "<PIL.Image.Image image mode=RGBA size=308x308 at 0x14F1A7D30>\n",
      "<PIL.Image.Image image mode=RGBA size=307x307 at 0x1488F70A0>\n",
      "<PIL.Image.Image image mode=RGBA size=307x307 at 0x148C9E1A0>\n",
      "<PIL.Image.Image image mode=RGBA size=308x308 at 0x14DC6EB90>\n",
      "<PIL.Image.Image image mode=RGBA size=307x307 at 0x14D8ACA30>\n",
      "<PIL.Image.Image image mode=RGBA size=308x308 at 0x139FCFAC0>\n",
      "<PIL.Image.Image image mode=RGBA size=307x307 at 0x139FCF7F0>\n",
      "<PIL.Image.Image image mode=RGBA size=307x307 at 0x139FCC400>\n",
      "<PIL.Image.Image image mode=RGBA size=307x307 at 0x14D8AD390>\n",
      "<PIL.Image.Image image mode=RGBA size=307x307 at 0x14F191180>\n",
      "<PIL.Image.Image image mode=RGBA size=307x307 at 0x14DC4C6D0>\n",
      "<PIL.Image.Image image mode=RGBA size=308x308 at 0x1483BF8B0>\n",
      "<PIL.Image.Image image mode=RGBA size=308x308 at 0x139FCCA00>\n",
      "<PIL.Image.Image image mode=RGBA size=308x308 at 0x1488F79A0>\n",
      "<PIL.Image.Image image mode=RGBA size=308x308 at 0x139FCDFC0>\n",
      "<PIL.Image.Image image mode=RGBA size=308x308 at 0x139FCC940>\n",
      "<PIL.Image.Image image mode=RGBA size=307x307 at 0x14DC6C820>\n",
      "<PIL.Image.Image image mode=RGBA size=308x308 at 0x1488F44F0>\n",
      "<PIL.Image.Image image mode=RGBA size=308x308 at 0x1489B5CF0>\n",
      "<PIL.Image.Image image mode=RGBA size=308x308 at 0x14D8AE410>\n",
      "<PIL.Image.Image image mode=RGBA size=308x308 at 0x139FCF0D0>\n",
      "<PIL.Image.Image image mode=RGBA size=307x307 at 0x1488F7400>\n",
      "<PIL.Image.Image image mode=RGBA size=307x307 at 0x139FCE080>\n",
      "<PIL.Image.Image image mode=RGBA size=308x308 at 0x139FCF7C0>\n",
      "<PIL.Image.Image image mode=RGBA size=308x308 at 0x139FCCF70>\n",
      "<PIL.Image.Image image mode=RGBA size=307x307 at 0x108BAFC10>\n",
      "<PIL.Image.Image image mode=RGBA size=308x308 at 0x14F1A6B60>\n",
      "<PIL.Image.Image image mode=RGBA size=308x308 at 0x139FCCB20>\n",
      "<PIL.Image.Image image mode=RGBA size=307x307 at 0x14F1A75B0>\n",
      "<PIL.Image.Image image mode=RGBA size=308x308 at 0x1489B5ED0>\n",
      "<PIL.Image.Image image mode=RGBA size=308x308 at 0x1488F43D0>\n",
      "<PIL.Image.Image image mode=RGBA size=308x308 at 0x139FCF5E0>\n",
      "<PIL.Image.Image image mode=RGBA size=307x307 at 0x148C9DBD0>\n",
      "<PIL.Image.Image image mode=RGBA size=307x307 at 0x1489B7880>\n",
      "<PIL.Image.Image image mode=RGBA size=307x307 at 0x1488F5960>\n",
      "<PIL.Image.Image image mode=RGBA size=308x308 at 0x1488F7B20>\n",
      "<PIL.Image.Image image mode=RGBA size=308x308 at 0x1489338E0>\n",
      "<PIL.Image.Image image mode=RGBA size=307x307 at 0x148930FD0>\n",
      "<PIL.Image.Image image mode=RGBA size=308x308 at 0x14DC5D5D0>\n",
      "<PIL.Image.Image image mode=RGBA size=307x307 at 0x148C9F040>\n",
      "<PIL.Image.Image image mode=RGBA size=307x307 at 0x14DC4DF30>\n",
      "<PIL.Image.Image image mode=RGBA size=308x308 at 0x1488F7520>\n",
      "<PIL.Image.Image image mode=RGBA size=308x308 at 0x1489B7430>\n",
      "<PIL.Image.Image image mode=RGBA size=308x308 at 0x139FCE380>\n",
      "<PIL.Image.Image image mode=RGBA size=307x307 at 0x1489B77F0>\n",
      "<PIL.Image.Image image mode=RGBA size=308x308 at 0x139FCDE10>\n",
      "<PIL.Image.Image image mode=RGBA size=308x308 at 0x1489B68F0>\n",
      "<PIL.Image.Image image mode=RGBA size=308x308 at 0x1489311E0>\n",
      "<PIL.Image.Image image mode=RGBA size=308x308 at 0x148933E50>\n",
      "<PIL.Image.Image image mode=RGBA size=307x307 at 0x14D8ADC30>\n",
      "<PIL.Image.Image image mode=RGBA size=307x307 at 0x139FCC880>\n",
      "<PIL.Image.Image image mode=RGBA size=308x308 at 0x148931FC0>\n",
      "<PIL.Image.Image image mode=RGBA size=308x308 at 0x14D8AD0F0>\n",
      "<PIL.Image.Image image mode=RGBA size=307x307 at 0x1488F5FC0>\n",
      "<PIL.Image.Image image mode=RGBA size=307x307 at 0x148933010>\n",
      "<PIL.Image.Image image mode=RGBA size=308x308 at 0x139FCD150>\n",
      "<PIL.Image.Image image mode=RGBA size=308x308 at 0x14D8AC430>\n",
      "<PIL.Image.Image image mode=RGBA size=308x308 at 0x148933CA0>\n",
      "<PIL.Image.Image image mode=RGBA size=308x308 at 0x148931030>\n",
      "<PIL.Image.Image image mode=RGBA size=308x308 at 0x14DC5ED40>\n",
      "<PIL.Image.Image image mode=RGBA size=307x307 at 0x1480A9ED0>\n",
      "<PIL.Image.Image image mode=RGBA size=307x307 at 0x1489320B0>\n",
      "<PIL.Image.Image image mode=RGBA size=307x307 at 0x148933790>\n",
      "<PIL.Image.Image image mode=RGBA size=307x307 at 0x14DC6D270>\n",
      "<PIL.Image.Image image mode=RGBA size=308x308 at 0x14DC5DCF0>\n",
      "<PIL.Image.Image image mode=RGBA size=307x307 at 0x14DC5C310>\n",
      "<PIL.Image.Image image mode=RGBA size=307x307 at 0x14DC5E320>\n",
      "<PIL.Image.Image image mode=RGBA size=307x307 at 0x14DC5EE00>\n",
      "<PIL.Image.Image image mode=RGBA size=308x308 at 0x14DC5D000>\n",
      "<PIL.Image.Image image mode=RGBA size=308x308 at 0x1489B6800>\n",
      "<PIL.Image.Image image mode=RGBA size=307x307 at 0x14DC5F1F0>\n",
      "<PIL.Image.Image image mode=RGBA size=308x308 at 0x14F1A45E0>\n",
      "<PIL.Image.Image image mode=RGBA size=308x308 at 0x1481FF0D0>\n",
      "<PIL.Image.Image image mode=RGBA size=307x307 at 0x108BAFD60>\n",
      "<PIL.Image.Image image mode=RGBA size=307x307 at 0x1480AADA0>\n",
      "<PIL.Image.Image image mode=RGBA size=307x307 at 0x14DC5CD90>\n",
      "<PIL.Image.Image image mode=RGBA size=307x307 at 0x14F1A66B0>\n",
      "<PIL.Image.Image image mode=RGBA size=308x308 at 0x14DC5FF10>\n",
      "<PIL.Image.Image image mode=RGBA size=308x308 at 0x14DC5F640>\n",
      "<PIL.Image.Image image mode=RGBA size=308x308 at 0x1488BA260>\n",
      "<PIL.Image.Image image mode=RGBA size=307x307 at 0x148640400>\n",
      "<PIL.Image.Image image mode=RGBA size=308x308 at 0x148640520>\n",
      "<PIL.Image.Image image mode=RGBA size=308x308 at 0x1486418D0>\n",
      "<PIL.Image.Image image mode=RGBA size=308x308 at 0x139FCE1A0>\n",
      "<PIL.Image.Image image mode=RGBA size=308x308 at 0x148931810>\n",
      "<PIL.Image.Image image mode=RGBA size=307x307 at 0x148643940>\n",
      "<PIL.Image.Image image mode=RGBA size=308x308 at 0x14D8AEC50>\n",
      "<PIL.Image.Image image mode=RGBA size=307x307 at 0x14F0ED1E0>\n",
      "<PIL.Image.Image image mode=RGBA size=307x307 at 0x14DC5E410>\n",
      "<PIL.Image.Image image mode=RGBA size=307x307 at 0x148640370>\n",
      "<PIL.Image.Image image mode=RGBA size=308x308 at 0x14DC5F5B0>\n",
      "<PIL.Image.Image image mode=RGBA size=307x307 at 0x1481FD4B0>\n",
      "<PIL.Image.Image image mode=RGBA size=307x307 at 0x148932320>\n",
      "<PIL.Image.Image image mode=RGBA size=307x307 at 0x1488BA110>\n",
      "<PIL.Image.Image image mode=RGBA size=308x308 at 0x14DC5EEC0>\n",
      "<PIL.Image.Image image mode=RGBA size=307x307 at 0x14DC5CA90>\n",
      "<PIL.Image.Image image mode=RGBA size=307x307 at 0x14DC5C580>\n",
      "<PIL.Image.Image image mode=RGBA size=308x308 at 0x14DC5EBC0>\n",
      "<PIL.Image.Image image mode=RGBA size=308x308 at 0x1488BA8C0>\n",
      "<PIL.Image.Image image mode=RGBA size=307x307 at 0x1488B8D90>\n",
      "<PIL.Image.Image image mode=RGBA size=308x308 at 0x1488B91E0>\n",
      "<PIL.Image.Image image mode=RGBA size=307x307 at 0x1488BA9B0>\n",
      "<PIL.Image.Image image mode=RGBA size=308x308 at 0x139FCC160>\n",
      "<PIL.Image.Image image mode=RGBA size=308x308 at 0x1488BB610>\n",
      "<PIL.Image.Image image mode=RGBA size=308x308 at 0x1481FF280>\n",
      "<PIL.Image.Image image mode=RGBA size=308x308 at 0x14DC5D7E0>\n",
      "<PIL.Image.Image image mode=RGBA size=308x308 at 0x1488B8850>\n",
      "<PIL.Image.Image image mode=RGBA size=308x308 at 0x1488BB190>\n",
      "<PIL.Image.Image image mode=RGBA size=308x308 at 0x1488B8100>\n",
      "<PIL.Image.Image image mode=RGBA size=308x308 at 0x1488B89A0>\n",
      "<PIL.Image.Image image mode=RGBA size=308x308 at 0x148643460>\n",
      "<PIL.Image.Image image mode=RGBA size=307x307 at 0x14D8AFF70>\n",
      "<PIL.Image.Image image mode=RGBA size=308x308 at 0x14F0EC4F0>\n",
      "<PIL.Image.Image image mode=RGBA size=308x308 at 0x1481FE920>\n",
      "<PIL.Image.Image image mode=RGBA size=307x307 at 0x139FCE110>\n",
      "<PIL.Image.Image image mode=RGBA size=308x308 at 0x1481FD7E0>\n",
      "<PIL.Image.Image image mode=RGBA size=308x308 at 0x14F0ED750>\n",
      "<PIL.Image.Image image mode=RGBA size=308x308 at 0x1488BA9E0>\n",
      "<PIL.Image.Image image mode=RGBA size=307x307 at 0x1481FC1F0>\n",
      "<PIL.Image.Image image mode=RGBA size=308x308 at 0x1488B8B50>\n",
      "<PIL.Image.Image image mode=RGBA size=308x308 at 0x1488BA5F0>\n",
      "<PIL.Image.Image image mode=RGBA size=307x307 at 0x148642320>\n",
      "<PIL.Image.Image image mode=RGBA size=308x308 at 0x1488B9DB0>\n",
      "<PIL.Image.Image image mode=RGBA size=308x308 at 0x1488BA0E0>\n",
      "<PIL.Image.Image image mode=RGBA size=307x307 at 0x1488BAF50>\n",
      "<PIL.Image.Image image mode=RGBA size=307x307 at 0x1488B9870>\n",
      "<PIL.Image.Image image mode=RGBA size=308x308 at 0x1488BAE60>\n",
      "<PIL.Image.Image image mode=RGBA size=308x308 at 0x1488BAC20>\n",
      "<PIL.Image.Image image mode=RGBA size=308x308 at 0x1488B8CD0>\n",
      "<PIL.Image.Image image mode=RGBA size=307x307 at 0x1488B81C0>\n",
      "<PIL.Image.Image image mode=RGBA size=308x308 at 0x1488B9510>\n",
      "<PIL.Image.Image image mode=RGBA size=308x308 at 0x1488BBA60>\n",
      "<PIL.Image.Image image mode=RGBA size=307x307 at 0x14DC6C8B0>\n",
      "<PIL.Image.Image image mode=RGBA size=308x308 at 0x1488BA140>\n",
      "<PIL.Image.Image image mode=RGBA size=308x308 at 0x1488B9F00>\n",
      "<PIL.Image.Image image mode=RGBA size=307x307 at 0x1481FDED0>\n",
      "<PIL.Image.Image image mode=RGBA size=308x308 at 0x1488BB6A0>\n",
      "<PIL.Image.Image image mode=RGBA size=308x308 at 0x1488BBE80>\n",
      "<PIL.Image.Image image mode=RGBA size=307x307 at 0x1488BAA70>\n",
      "<PIL.Image.Image image mode=RGBA size=308x308 at 0x1488BA0B0>\n",
      "<PIL.Image.Image image mode=RGBA size=308x308 at 0x1488B9C00>\n",
      "<PIL.Image.Image image mode=RGBA size=308x308 at 0x1488BBF70>\n",
      "<PIL.Image.Image image mode=RGBA size=308x308 at 0x1488B83D0>\n",
      "<PIL.Image.Image image mode=RGBA size=308x308 at 0x1488BB6D0>\n",
      "<PIL.Image.Image image mode=RGBA size=308x308 at 0x148642E60>\n",
      "<PIL.Image.Image image mode=RGBA size=308x308 at 0x1488B9B10>\n",
      "<PIL.Image.Image image mode=RGBA size=308x308 at 0x1488BA1D0>\n",
      "<PIL.Image.Image image mode=RGBA size=308x308 at 0x148C9D030>\n",
      "<PIL.Image.Image image mode=RGBA size=308x308 at 0x1488BB790>\n",
      "<PIL.Image.Image image mode=RGBA size=308x308 at 0x14D8AFC40>\n",
      "<PIL.Image.Image image mode=RGBA size=307x307 at 0x1488B8EE0>\n",
      "<PIL.Image.Image image mode=RGBA size=308x308 at 0x1488B8310>\n",
      "<PIL.Image.Image image mode=RGBA size=308x308 at 0x1488BA2F0>\n",
      "<PIL.Image.Image image mode=RGBA size=308x308 at 0x1481FC8B0>\n",
      "<PIL.Image.Image image mode=RGBA size=308x308 at 0x148643A00>\n",
      "<PIL.Image.Image image mode=RGBA size=308x308 at 0x1488BB970>\n",
      "<PIL.Image.Image image mode=RGBA size=308x308 at 0x1488BB040>\n",
      "<PIL.Image.Image image mode=RGBA size=307x307 at 0x1488B8640>\n",
      "<PIL.Image.Image image mode=RGBA size=307x307 at 0x1488B90F0>\n",
      "<PIL.Image.Image image mode=RGBA size=308x308 at 0x1488B8220>\n",
      "<PIL.Image.Image image mode=RGBA size=308x308 at 0x14D8AD510>\n",
      "<PIL.Image.Image image mode=RGBA size=307x307 at 0x1488B8490>\n",
      "<PIL.Image.Image image mode=RGBA size=308x308 at 0x1488BBA90>\n",
      "<PIL.Image.Image image mode=RGBA size=308x308 at 0x1488B8A00>\n",
      "<PIL.Image.Image image mode=RGBA size=308x308 at 0x1488BBD30>\n",
      "<PIL.Image.Image image mode=RGBA size=307x307 at 0x148246950>\n",
      "<PIL.Image.Image image mode=RGBA size=307x307 at 0x1482448B0>\n",
      "<PIL.Image.Image image mode=RGBA size=308x308 at 0x1488B9600>\n",
      "<PIL.Image.Image image mode=RGBA size=308x308 at 0x1482472E0>\n",
      "<PIL.Image.Image image mode=RGBA size=307x307 at 0x1488B9C60>\n",
      "<PIL.Image.Image image mode=RGBA size=308x308 at 0x1488B8400>\n",
      "<PIL.Image.Image image mode=RGBA size=307x307 at 0x1488BADD0>\n",
      "<PIL.Image.Image image mode=RGBA size=308x308 at 0x1488B9090>\n",
      "<PIL.Image.Image image mode=RGBA size=307x307 at 0x1488B9A20>\n",
      "<PIL.Image.Image image mode=RGBA size=307x307 at 0x148245150>\n",
      "<PIL.Image.Image image mode=RGBA size=308x308 at 0x1488B8C10>\n",
      "<PIL.Image.Image image mode=RGBA size=307x307 at 0x1482458A0>\n",
      "<PIL.Image.Image image mode=RGBA size=307x307 at 0x1488B89D0>\n",
      "<PIL.Image.Image image mode=RGBA size=307x307 at 0x148245F30>\n",
      "<PIL.Image.Image image mode=RGBA size=308x308 at 0x1482447C0>\n",
      "<PIL.Image.Image image mode=RGBA size=307x307 at 0x1482452A0>\n",
      "<PIL.Image.Image image mode=RGBA size=308x308 at 0x1488BB3A0>\n",
      "<PIL.Image.Image image mode=RGBA size=308x308 at 0x1481FEBC0>\n",
      "<PIL.Image.Image image mode=RGBA size=307x307 at 0x148246CB0>\n",
      "<PIL.Image.Image image mode=RGBA size=308x308 at 0x148244A30>\n",
      "<PIL.Image.Image image mode=RGBA size=308x308 at 0x148244E80>\n",
      "<PIL.Image.Image image mode=RGBA size=308x308 at 0x148244BE0>\n",
      "<PIL.Image.Image image mode=RGBA size=308x308 at 0x1482462F0>\n",
      "<PIL.Image.Image image mode=RGBA size=307x307 at 0x1482451E0>\n",
      "<PIL.Image.Image image mode=RGBA size=307x307 at 0x148247E80>\n",
      "<PIL.Image.Image image mode=RGBA size=307x307 at 0x1486403A0>\n",
      "<PIL.Image.Image image mode=RGBA size=308x308 at 0x1481FC850>\n",
      "<PIL.Image.Image image mode=RGBA size=308x308 at 0x1482470D0>\n",
      "<PIL.Image.Image image mode=RGBA size=308x308 at 0x148247A00>\n",
      "<PIL.Image.Image image mode=RGBA size=307x307 at 0x148244BB0>\n",
      "<PIL.Image.Image image mode=RGBA size=307x307 at 0x148247D60>\n",
      "<PIL.Image.Image image mode=RGBA size=308x308 at 0x148247280>\n",
      "<PIL.Image.Image image mode=RGBA size=307x307 at 0x1482464D0>\n",
      "<PIL.Image.Image image mode=RGBA size=308x308 at 0x1488BB880>\n",
      "<PIL.Image.Image image mode=RGBA size=308x308 at 0x1482472B0>\n",
      "<PIL.Image.Image image mode=RGBA size=307x307 at 0x148246560>\n",
      "<PIL.Image.Image image mode=RGBA size=307x307 at 0x1481FE530>\n",
      "<PIL.Image.Image image mode=RGBA size=308x308 at 0x148246A10>\n",
      "<PIL.Image.Image image mode=RGBA size=308x308 at 0x1489B4FA0>\n",
      "<PIL.Image.Image image mode=RGBA size=308x308 at 0x148245630>\n",
      "<PIL.Image.Image image mode=RGBA size=307x307 at 0x148246680>\n",
      "<PIL.Image.Image image mode=RGBA size=307x307 at 0x148247040>\n",
      "<PIL.Image.Image image mode=RGBA size=308x308 at 0x1482455D0>\n",
      "<PIL.Image.Image image mode=RGBA size=308x308 at 0x1482475E0>\n",
      "<PIL.Image.Image image mode=RGBA size=308x308 at 0x148247E20>\n",
      "<PIL.Image.Image image mode=RGBA size=308x308 at 0x148244640>\n",
      "<PIL.Image.Image image mode=RGBA size=307x307 at 0x148245E70>\n",
      "<PIL.Image.Image image mode=RGBA size=307x307 at 0x1482461A0>\n",
      "<PIL.Image.Image image mode=RGBA size=307x307 at 0x148245360>\n",
      "<PIL.Image.Image image mode=RGBA size=307x307 at 0x148246AA0>\n",
      "<PIL.Image.Image image mode=RGBA size=307x307 at 0x148247460>\n",
      "<PIL.Image.Image image mode=RGBA size=308x308 at 0x148245240>\n",
      "<PIL.Image.Image image mode=RGBA size=307x307 at 0x148244FA0>\n",
      "<PIL.Image.Image image mode=RGBA size=308x308 at 0x148244940>\n",
      "<PIL.Image.Image image mode=RGBA size=307x307 at 0x148244E20>\n",
      "<PIL.Image.Image image mode=RGBA size=307x307 at 0x148244580>\n",
      "<PIL.Image.Image image mode=RGBA size=308x308 at 0x148247430>\n",
      "<PIL.Image.Image image mode=RGBA size=308x308 at 0x148245DB0>\n",
      "<PIL.Image.Image image mode=RGBA size=308x308 at 0x148247B50>\n",
      "<PIL.Image.Image image mode=RGBA size=308x308 at 0x148244FD0>\n",
      "<PIL.Image.Image image mode=RGBA size=308x308 at 0x1482451B0>\n",
      "<PIL.Image.Image image mode=RGBA size=308x308 at 0x148246DA0>\n",
      "<PIL.Image.Image image mode=RGBA size=308x308 at 0x148247AC0>\n",
      "<PIL.Image.Image image mode=RGBA size=307x307 at 0x148246740>\n",
      "<PIL.Image.Image image mode=RGBA size=308x308 at 0x148244310>\n",
      "<PIL.Image.Image image mode=RGBA size=307x307 at 0x148246140>\n",
      "<PIL.Image.Image image mode=RGBA size=308x308 at 0x148245C30>\n",
      "<PIL.Image.Image image mode=RGBA size=307x307 at 0x148244160>\n",
      "<PIL.Image.Image image mode=RGBA size=308x308 at 0x148245AB0>\n",
      "<PIL.Image.Image image mode=RGBA size=308x308 at 0x148246C50>\n",
      "<PIL.Image.Image image mode=RGBA size=308x308 at 0x1482455A0>\n",
      "<PIL.Image.Image image mode=RGBA size=307x307 at 0x1482471F0>\n",
      "<PIL.Image.Image image mode=RGBA size=308x308 at 0x148246920>\n",
      "<PIL.Image.Image image mode=RGBA size=308x308 at 0x148246410>\n",
      "<PIL.Image.Image image mode=RGBA size=308x308 at 0x148A37400>\n",
      "<PIL.Image.Image image mode=RGBA size=307x307 at 0x148245120>\n",
      "<PIL.Image.Image image mode=RGBA size=307x307 at 0x1482461D0>\n",
      "<PIL.Image.Image image mode=RGBA size=308x308 at 0x148A35F00>\n",
      "<PIL.Image.Image image mode=RGBA size=308x308 at 0x1482464A0>\n",
      "<PIL.Image.Image image mode=RGBA size=307x307 at 0x148246050>\n",
      "<PIL.Image.Image image mode=RGBA size=308x308 at 0x148247EB0>\n",
      "<PIL.Image.Image image mode=RGBA size=308x308 at 0x148247C10>\n",
      "<PIL.Image.Image image mode=RGBA size=307x307 at 0x148246F80>\n",
      "<PIL.Image.Image image mode=RGBA size=307x307 at 0x148A36D40>\n",
      "<PIL.Image.Image image mode=RGBA size=308x308 at 0x148245CC0>\n",
      "<PIL.Image.Image image mode=RGBA size=308x308 at 0x148247B80>\n",
      "<PIL.Image.Image image mode=RGBA size=308x308 at 0x148245390>\n",
      "<PIL.Image.Image image mode=RGBA size=307x307 at 0x148245DE0>\n",
      "<PIL.Image.Image image mode=RGBA size=307x307 at 0x148245BA0>\n",
      "<PIL.Image.Image image mode=RGBA size=307x307 at 0x148245F90>\n",
      "<PIL.Image.Image image mode=RGBA size=308x308 at 0x148A37970>\n",
      "<PIL.Image.Image image mode=RGBA size=307x307 at 0x148A37FA0>\n",
      "<PIL.Image.Image image mode=RGBA size=308x308 at 0x148A36920>\n",
      "<PIL.Image.Image image mode=RGBA size=307x307 at 0x148245000>\n",
      "<PIL.Image.Image image mode=RGBA size=308x308 at 0x148245870>\n",
      "<PIL.Image.Image image mode=RGBA size=308x308 at 0x148A351B0>\n",
      "<PIL.Image.Image image mode=RGBA size=308x308 at 0x148246800>\n",
      "<PIL.Image.Image image mode=RGBA size=307x307 at 0x148244CD0>\n",
      "<PIL.Image.Image image mode=RGBA size=307x307 at 0x148245930>\n",
      "<PIL.Image.Image image mode=RGBA size=307x307 at 0x148244C40>\n",
      "<PIL.Image.Image image mode=RGBA size=308x308 at 0x148A37880>\n",
      "<PIL.Image.Image image mode=RGBA size=307x307 at 0x148A34040>\n",
      "<PIL.Image.Image image mode=RGBA size=307x307 at 0x148A37670>\n",
      "<PIL.Image.Image image mode=RGBA size=308x308 at 0x148A36230>\n",
      "<PIL.Image.Image image mode=RGBA size=308x308 at 0x148A34FD0>\n",
      "<PIL.Image.Image image mode=RGBA size=307x307 at 0x148A37DF0>\n",
      "<PIL.Image.Image image mode=RGBA size=307x307 at 0x148A364A0>\n",
      "<PIL.Image.Image image mode=RGBA size=307x307 at 0x148244CA0>\n",
      "<PIL.Image.Image image mode=RGBA size=307x307 at 0x148A35BA0>\n",
      "<PIL.Image.Image image mode=RGBA size=308x308 at 0x148A372B0>\n",
      "<PIL.Image.Image image mode=RGBA size=308x308 at 0x148A378E0>\n",
      "<PIL.Image.Image image mode=RGBA size=308x308 at 0x148A36C80>\n",
      "<PIL.Image.Image image mode=RGBA size=308x308 at 0x148A36320>\n",
      "<PIL.Image.Image image mode=RGBA size=307x307 at 0x148A34A60>\n",
      "<PIL.Image.Image image mode=RGBA size=308x308 at 0x1482443D0>\n",
      "<PIL.Image.Image image mode=RGBA size=308x308 at 0x148244C70>\n",
      "<PIL.Image.Image image mode=RGBA size=308x308 at 0x148A37520>\n",
      "<PIL.Image.Image image mode=RGBA size=307x307 at 0x148A350C0>\n",
      "<PIL.Image.Image image mode=RGBA size=308x308 at 0x148A34670>\n",
      "<PIL.Image.Image image mode=RGBA size=307x307 at 0x148A35240>\n",
      "<PIL.Image.Image image mode=RGBA size=307x307 at 0x148A34790>\n",
      "<PIL.Image.Image image mode=RGBA size=307x307 at 0x148A34580>\n",
      "<PIL.Image.Image image mode=RGBA size=307x307 at 0x148A37D90>\n",
      "<PIL.Image.Image image mode=RGBA size=308x308 at 0x148A35180>\n",
      "<PIL.Image.Image image mode=RGBA size=307x307 at 0x148A36770>\n",
      "<PIL.Image.Image image mode=RGBA size=308x308 at 0x148A35ED0>\n",
      "<PIL.Image.Image image mode=RGBA size=307x307 at 0x148A34B20>\n",
      "<PIL.Image.Image image mode=RGBA size=307x307 at 0x148A357B0>\n",
      "<PIL.Image.Image image mode=RGBA size=308x308 at 0x148A34DF0>\n",
      "<PIL.Image.Image image mode=RGBA size=308x308 at 0x148A36F50>\n",
      "<PIL.Image.Image image mode=RGBA size=308x308 at 0x148A354B0>\n",
      "<PIL.Image.Image image mode=RGBA size=308x308 at 0x148A34190>\n",
      "<PIL.Image.Image image mode=RGBA size=307x307 at 0x148A36FB0>\n",
      "<PIL.Image.Image image mode=RGBA size=308x308 at 0x148A34D00>\n",
      "<PIL.Image.Image image mode=RGBA size=307x307 at 0x148A34700>\n",
      "<PIL.Image.Image image mode=RGBA size=308x308 at 0x148A36FE0>\n",
      "<PIL.Image.Image image mode=RGBA size=308x308 at 0x148A34EE0>\n",
      "<PIL.Image.Image image mode=RGBA size=308x308 at 0x148A34CD0>\n",
      "<PIL.Image.Image image mode=RGBA size=308x308 at 0x148A34AF0>\n",
      "<PIL.Image.Image image mode=RGBA size=307x307 at 0x148A35480>\n",
      "<PIL.Image.Image image mode=RGBA size=307x307 at 0x148A36E00>\n",
      "<PIL.Image.Image image mode=RGBA size=308x308 at 0x148A36440>\n",
      "<PIL.Image.Image image mode=RGBA size=307x307 at 0x148A379D0>\n",
      "<PIL.Image.Image image mode=RGBA size=308x308 at 0x148A36A70>\n",
      "<PIL.Image.Image image mode=RGBA size=308x308 at 0x148A366B0>\n",
      "<PIL.Image.Image image mode=RGBA size=308x308 at 0x148A377F0>\n",
      "<PIL.Image.Image image mode=RGBA size=308x308 at 0x148A35FF0>\n",
      "<PIL.Image.Image image mode=RGBA size=308x308 at 0x148A354E0>\n",
      "<PIL.Image.Image image mode=RGBA size=308x308 at 0x148A36080>\n",
      "<PIL.Image.Image image mode=RGBA size=308x308 at 0x148A34A30>\n",
      "<PIL.Image.Image image mode=RGBA size=308x308 at 0x148A362F0>\n",
      "<PIL.Image.Image image mode=RGBA size=308x308 at 0x148A358A0>\n",
      "<PIL.Image.Image image mode=RGBA size=308x308 at 0x148A36020>\n",
      "<PIL.Image.Image image mode=RGBA size=307x307 at 0x148A35A50>\n",
      "<PIL.Image.Image image mode=RGBA size=307x307 at 0x148A36200>\n",
      "<PIL.Image.Image image mode=RGBA size=308x308 at 0x148A35EA0>\n",
      "<PIL.Image.Image image mode=RGBA size=307x307 at 0x148A37CA0>\n",
      "<PIL.Image.Image image mode=RGBA size=307x307 at 0x148A374C0>\n",
      "<PIL.Image.Image image mode=RGBA size=308x308 at 0x148A34550>\n",
      "<PIL.Image.Image image mode=RGBA size=307x307 at 0x148A36DA0>\n",
      "<PIL.Image.Image image mode=RGBA size=308x308 at 0x148A37850>\n",
      "<PIL.Image.Image image mode=RGBA size=308x308 at 0x148A348B0>\n",
      "<PIL.Image.Image image mode=RGBA size=308x308 at 0x148A359F0>\n",
      "<PIL.Image.Image image mode=RGBA size=308x308 at 0x14DC47790>\n",
      "<PIL.Image.Image image mode=RGBA size=308x308 at 0x14DC46C50>\n",
      "<PIL.Image.Image image mode=RGBA size=307x307 at 0x148A36710>\n",
      "<PIL.Image.Image image mode=RGBA size=308x308 at 0x14DC45DB0>\n",
      "<PIL.Image.Image image mode=RGBA size=307x307 at 0x148A35D80>\n",
      "<PIL.Image.Image image mode=RGBA size=307x307 at 0x148A35900>\n",
      "<PIL.Image.Image image mode=RGBA size=307x307 at 0x148A358D0>\n",
      "<PIL.Image.Image image mode=RGBA size=308x308 at 0x148A34E20>\n",
      "<PIL.Image.Image image mode=RGBA size=307x307 at 0x148A35DE0>\n",
      "<PIL.Image.Image image mode=RGBA size=308x308 at 0x148A35720>\n",
      "<PIL.Image.Image image mode=RGBA size=308x308 at 0x148A34C70>\n",
      "<PIL.Image.Image image mode=RGBA size=308x308 at 0x148A37640>\n",
      "<PIL.Image.Image image mode=RGBA size=308x308 at 0x148A36BC0>\n",
      "<PIL.Image.Image image mode=RGBA size=308x308 at 0x14DC47D00>\n",
      "<PIL.Image.Image image mode=RGBA size=308x308 at 0x148A34070>\n",
      "<PIL.Image.Image image mode=RGBA size=307x307 at 0x148A36B30>\n",
      "<PIL.Image.Image image mode=RGBA size=308x308 at 0x148A373A0>\n",
      "<PIL.Image.Image image mode=RGBA size=308x308 at 0x14DC451B0>\n",
      "<PIL.Image.Image image mode=RGBA size=307x307 at 0x14DC44370>\n",
      "<PIL.Image.Image image mode=RGBA size=308x308 at 0x148A352A0>\n",
      "<PIL.Image.Image image mode=RGBA size=307x307 at 0x148A35120>\n",
      "<PIL.Image.Image image mode=RGBA size=308x308 at 0x14DC47580>\n",
      "<PIL.Image.Image image mode=RGBA size=308x308 at 0x14DC444C0>\n",
      "<PIL.Image.Image image mode=RGBA size=307x307 at 0x14DC46B90>\n",
      "<PIL.Image.Image image mode=RGBA size=308x308 at 0x148A36DD0>\n",
      "<PIL.Image.Image image mode=RGBA size=308x308 at 0x148A37610>\n",
      "<PIL.Image.Image image mode=RGBA size=307x307 at 0x14DC442E0>\n",
      "<PIL.Image.Image image mode=RGBA size=308x308 at 0x14DC44640>\n",
      "<PIL.Image.Image image mode=RGBA size=308x308 at 0x14DC44880>\n",
      "<PIL.Image.Image image mode=RGBA size=308x308 at 0x14DC441C0>\n",
      "<PIL.Image.Image image mode=RGBA size=307x307 at 0x148A36110>\n",
      "<PIL.Image.Image image mode=RGBA size=307x307 at 0x14DC440D0>\n",
      "<PIL.Image.Image image mode=RGBA size=308x308 at 0x14DC456F0>\n",
      "<PIL.Image.Image image mode=RGBA size=308x308 at 0x14DC45150>\n",
      "<PIL.Image.Image image mode=RGBA size=307x307 at 0x14DC460E0>\n",
      "<PIL.Image.Image image mode=RGBA size=308x308 at 0x14DC458A0>\n",
      "<PIL.Image.Image image mode=RGBA size=307x307 at 0x14DC46B00>\n",
      "<PIL.Image.Image image mode=RGBA size=307x307 at 0x14DC467A0>\n",
      "<PIL.Image.Image image mode=RGBA size=307x307 at 0x148A36260>\n",
      "<PIL.Image.Image image mode=RGBA size=308x308 at 0x148A359C0>\n",
      "<PIL.Image.Image image mode=RGBA size=308x308 at 0x14DC47A00>\n",
      "<PIL.Image.Image image mode=RGBA size=308x308 at 0x14DC47550>\n",
      "<PIL.Image.Image image mode=RGBA size=308x308 at 0x14DC44E80>\n",
      "<PIL.Image.Image image mode=RGBA size=308x308 at 0x14DC47730>\n",
      "<PIL.Image.Image image mode=RGBA size=308x308 at 0x14DC448B0>\n",
      "<PIL.Image.Image image mode=RGBA size=308x308 at 0x14DC45A20>\n",
      "<PIL.Image.Image image mode=RGBA size=308x308 at 0x14DC44B80>\n",
      "<PIL.Image.Image image mode=RGBA size=308x308 at 0x14DC459C0>\n",
      "<PIL.Image.Image image mode=RGBA size=308x308 at 0x14DC44070>\n",
      "<PIL.Image.Image image mode=RGBA size=308x308 at 0x14DC44F70>\n",
      "<PIL.Image.Image image mode=RGBA size=308x308 at 0x14DC45420>\n",
      "<PIL.Image.Image image mode=RGBA size=308x308 at 0x14DC47B20>\n",
      "<PIL.Image.Image image mode=RGBA size=307x307 at 0x14DC446D0>\n",
      "<PIL.Image.Image image mode=RGBA size=307x307 at 0x14DC44F40>\n",
      "<PIL.Image.Image image mode=RGBA size=307x307 at 0x14DC44AC0>\n",
      "<PIL.Image.Image image mode=RGBA size=308x308 at 0x14DC45E40>\n",
      "<PIL.Image.Image image mode=RGBA size=307x307 at 0x14DC45A50>\n",
      "<PIL.Image.Image image mode=RGBA size=308x308 at 0x14DC47A90>\n",
      "<PIL.Image.Image image mode=RGBA size=307x307 at 0x14DC47010>\n",
      "<PIL.Image.Image image mode=RGBA size=308x308 at 0x14DC448E0>\n",
      "<PIL.Image.Image image mode=RGBA size=308x308 at 0x14DC46110>\n",
      "<PIL.Image.Image image mode=RGBA size=308x308 at 0x14DC47B50>\n",
      "<PIL.Image.Image image mode=RGBA size=307x307 at 0x14DC46830>\n",
      "<PIL.Image.Image image mode=RGBA size=307x307 at 0x14DC47E80>\n",
      "<PIL.Image.Image image mode=RGBA size=307x307 at 0x14DC469E0>\n",
      "<PIL.Image.Image image mode=RGBA size=308x308 at 0x14DC45270>\n",
      "<PIL.Image.Image image mode=RGBA size=307x307 at 0x14DC45720>\n",
      "<PIL.Image.Image image mode=RGBA size=307x307 at 0x14DC45930>\n",
      "<PIL.Image.Image image mode=RGBA size=307x307 at 0x14DC46E60>\n",
      "<PIL.Image.Image image mode=RGBA size=308x308 at 0x14DC46C80>\n",
      "<PIL.Image.Image image mode=RGBA size=308x308 at 0x14DC45990>\n",
      "<PIL.Image.Image image mode=RGBA size=308x308 at 0x14DC45630>\n",
      "<PIL.Image.Image image mode=RGBA size=308x308 at 0x14DC46560>\n",
      "<PIL.Image.Image image mode=RGBA size=308x308 at 0x14DC456C0>\n",
      "<PIL.Image.Image image mode=RGBA size=308x308 at 0x14DC44CA0>\n",
      "<PIL.Image.Image image mode=RGBA size=307x307 at 0x14DC45B40>\n",
      "<PIL.Image.Image image mode=RGBA size=308x308 at 0x14DC44850>\n",
      "<PIL.Image.Image image mode=RGBA size=308x308 at 0x14DC44220>\n",
      "<PIL.Image.Image image mode=RGBA size=307x307 at 0x14DC44AF0>\n",
      "<PIL.Image.Image image mode=RGBA size=308x308 at 0x14DC47970>\n",
      "<PIL.Image.Image image mode=RGBA size=307x307 at 0x14DC479D0>\n",
      "<PIL.Image.Image image mode=RGBA size=308x308 at 0x14DC46290>\n",
      "<PIL.Image.Image image mode=RGBA size=308x308 at 0x14DC47CD0>\n",
      "<PIL.Image.Image image mode=RGBA size=307x307 at 0x14DC44610>\n",
      "<PIL.Image.Image image mode=RGBA size=307x307 at 0x14DC45A80>\n",
      "<PIL.Image.Image image mode=RGBA size=308x308 at 0x14DC44D30>\n",
      "<PIL.Image.Image image mode=RGBA size=308x308 at 0x14DC44D60>\n",
      "<PIL.Image.Image image mode=RGBA size=308x308 at 0x14DC461A0>\n",
      "<PIL.Image.Image image mode=RGBA size=308x308 at 0x14DC45C00>\n",
      "<PIL.Image.Image image mode=RGBA size=308x308 at 0x14DC47850>\n",
      "<PIL.Image.Image image mode=RGBA size=308x308 at 0x14DC450F0>\n",
      "<PIL.Image.Image image mode=RGBA size=308x308 at 0x14DC453C0>\n",
      "<PIL.Image.Image image mode=RGBA size=307x307 at 0x14DC44BE0>\n",
      "<PIL.Image.Image image mode=RGBA size=308x308 at 0x14DC46650>\n",
      "<PIL.Image.Image image mode=RGBA size=307x307 at 0x14DC46E30>\n",
      "<PIL.Image.Image image mode=RGBA size=307x307 at 0x14DC466E0>\n",
      "<PIL.Image.Image image mode=RGBA size=308x308 at 0x14DC45D20>\n",
      "<PIL.Image.Image image mode=RGBA size=308x308 at 0x14DC45AB0>\n",
      "<PIL.Image.Image image mode=RGBA size=308x308 at 0x14DC45FC0>\n",
      "<PIL.Image.Image image mode=RGBA size=307x307 at 0x14DC44B20>\n",
      "<PIL.Image.Image image mode=RGBA size=307x307 at 0x14DC46A10>\n",
      "<PIL.Image.Image image mode=RGBA size=307x307 at 0x14DC476A0>\n",
      "<PIL.Image.Image image mode=RGBA size=308x308 at 0x14DC451E0>\n",
      "<PIL.Image.Image image mode=RGBA size=308x308 at 0x14DC46E90>\n",
      "<PIL.Image.Image image mode=RGBA size=307x307 at 0x14DC47280>\n",
      "<PIL.Image.Image image mode=RGBA size=308x308 at 0x14DC449A0>\n",
      "<PIL.Image.Image image mode=RGBA size=307x307 at 0x14DC45F00>\n",
      "<PIL.Image.Image image mode=RGBA size=308x308 at 0x14DC45870>\n",
      "<PIL.Image.Image image mode=RGBA size=307x307 at 0x14DC44C70>\n",
      "<PIL.Image.Image image mode=RGBA size=308x308 at 0x14DC46530>\n",
      "<PIL.Image.Image image mode=RGBA size=307x307 at 0x14DC45750>\n",
      "<PIL.Image.Image image mode=RGBA size=307x307 at 0x14DC46620>\n",
      "<PIL.Image.Image image mode=RGBA size=307x307 at 0x14DC465F0>\n",
      "<PIL.Image.Image image mode=RGBA size=307x307 at 0x14DC45240>\n",
      "<PIL.Image.Image image mode=RGBA size=307x307 at 0x14DC45660>\n",
      "<PIL.Image.Image image mode=RGBA size=308x308 at 0x14DC46A40>\n",
      "<PIL.Image.Image image mode=RGBA size=308x308 at 0x14DC462F0>\n",
      "<PIL.Image.Image image mode=RGBA size=308x308 at 0x14DC45DE0>\n",
      "<PIL.Image.Image image mode=RGBA size=308x308 at 0x14DC46800>\n",
      "<PIL.Image.Image image mode=RGBA size=307x307 at 0x14DC47AC0>\n",
      "<PIL.Image.Image image mode=RGBA size=308x308 at 0x14DC46320>\n",
      "<PIL.Image.Image image mode=RGBA size=308x308 at 0x14DC472E0>\n",
      "<PIL.Image.Image image mode=RGBA size=308x308 at 0x14DC46860>\n",
      "<PIL.Image.Image image mode=RGBA size=308x308 at 0x14DC445E0>\n",
      "<PIL.Image.Image image mode=RGBA size=308x308 at 0x14DC45BA0>\n",
      "<PIL.Image.Image image mode=RGBA size=307x307 at 0x14DC46CE0>\n",
      "<PIL.Image.Image image mode=RGBA size=307x307 at 0x14DC47520>\n",
      "<PIL.Image.Image image mode=RGBA size=307x307 at 0x14D8AD540>\n",
      "<PIL.Image.Image image mode=RGBA size=308x308 at 0x14DC47190>\n",
      "<PIL.Image.Image image mode=RGBA size=308x308 at 0x14DC477F0>\n",
      "<PIL.Image.Image image mode=RGBA size=308x308 at 0x14DC45F30>\n",
      "<PIL.Image.Image image mode=RGBA size=307x307 at 0x14DC465C0>\n",
      "<PIL.Image.Image image mode=RGBA size=307x307 at 0x14DC47250>\n",
      "<PIL.Image.Image image mode=RGBA size=307x307 at 0x14DC45CF0>\n",
      "<PIL.Image.Image image mode=RGBA size=308x308 at 0x14DC47F70>\n",
      "<PIL.Image.Image image mode=RGBA size=308x308 at 0x139FCD090>\n",
      "<PIL.Image.Image image mode=RGBA size=308x308 at 0x14D8ACE50>\n"
     ]
    }
   ],
   "source": [
    "import concurrent\n",
    "with concurrent.futures.ThreadPoolExecutor() as pool:\n",
    "   results=pool.map(CN_word_transbg, CN_image_files,list_output_dir )\n",
    "\n",
    "for result in results:\n",
    "   print(result)\n"
   ]
  },
  {
   "cell_type": "markdown",
   "metadata": {},
   "source": [
    "### Apply random background to the image and send to new folder\n",
    "#### need to adjust the size/ maybe what we can do is to crop the image, and then thinking about expand and small the image"
   ]
  },
  {
   "cell_type": "code",
   "execution_count": 69,
   "metadata": {},
   "outputs": [],
   "source": [
    "tp_img_dir=output_dir\n",
    "CS_dir=os.path.join(tp_img_dir,'CN_CS')\n",
    "RW_dir=os.path.join(tp_img_dir,'CN_RW')\n",
    "\n",
    "\n",
    "# Open overlay image\n",
    "img = Image.open(os.path.join(tp_img_dir,'TransBG-CS_001_SHEN-01.png'))\n",
    "img_w, img_h = img.size\n",
    "\n",
    "img.putalpha(128)\n",
    "\n",
    "homedir = os.getenv('HOME')\n",
    "backgrounds_directory = os.path.join(homedir,\"toolboxes/fLoc/stimuli/scrambled\")\n"
   ]
  },
  {
   "cell_type": "code",
   "execution_count": null,
   "metadata": {},
   "outputs": [],
   "source": [
    "\n",
    "background = Image.open('paddington.jpg')\n",
    "bg_w, bg_h = background.size\n",
    "offset = ((bg_w - img_w) // 2, (bg_h - img_h) // 2)\n",
    "background.paste(img, offset, img)\n",
    "background.save('result.png')\n",
    "\n"
   ]
  },
  {
   "cell_type": "markdown",
   "metadata": {},
   "source": [
    "## We need Chinese Scramble words"
   ]
  },
  {
   "cell_type": "markdown",
   "metadata": {},
   "source": []
  }
 ],
 "metadata": {
  "kernelspec": {
   "display_name": "Python 3 (ipykernel)",
   "language": "python",
   "name": "python3"
  },
  "language_info": {
   "codemirror_mode": {
    "name": "ipython",
    "version": 3
   },
   "file_extension": ".py",
   "mimetype": "text/x-python",
   "name": "python",
   "nbconvert_exporter": "python",
   "pygments_lexer": "ipython3",
   "version": "3.10.13"
  }
 },
 "nbformat": 4,
 "nbformat_minor": 4
}
